{
  "cells": [
    {
      "cell_type": "markdown",
      "metadata": {
        "id": "-kDkEdMi8d5B"
      },
      "source": [
        "<h1> Object Detection Exercises  <a align=\"center\" target=\"_blank\" href=\"https://colab.research.google.com/github/Marconi-Lab/dsa_2024/blob/main/dsa2024_yolov8_detection_exercises.ipynb\"><img src=\"https://colab.research.google.com/assets/colab-badge.svg\" alt=\"Open In Colab\"/></a>\n"
      ]
    },
    {
      "cell_type": "markdown",
      "metadata": {
        "id": "0ic9sf2kuy6r"
      },
      "source": [
        "\n",
        "Congratulations for completing the object detection walkthrough notebook!\n",
        "\n",
        "Now that you are familiar with object detection and the YOLOv8 and Roboflow workflows, in this exercise notebook you will try out another zero-shot detection model called Grounding Dino. You will also annotate a few more images from the DSAIL-Porini Dataset and add it to the object detection dataset we used in the previous notebook. You will then use it to fine tune a YOLOv8 model and compare it with the previous runs.\n",
        "\n",
        "\n",
        "## Exercise 1 : Dataset Annotation and Model Training\n",
        "\n",
        "In this exercise you will annotate an additional 43 images to add on to the initial 365 annotated images. You will first download a dataset version with the original images (no augmentations) and upload them to a new project in your workspace. You will then upload the 43 unannotated images to the same project. After uploading the images, you will go to Roboflow and annotate the images. After annotating the images, you will create a new dataset version. You will then apply a few augmentations to the final dataset and load it into a colab session to train a YOLOv8 model variant of your choice"
      ]
    },
    {
      "cell_type": "markdown",
      "metadata": {
        "id": "ZBnMVWGt_zQ8"
      },
      "source": [
        "Read about the guide on the augmentations available on Roboflow (both the bounding box augmentations and image augmentations) and apply a few augmentations to the dataset. Download the dataset to Colab as we did in the previous notebook"
      ]
    },
    {
      "cell_type": "markdown",
      "metadata": {
        "id": "HDh4LmN7ACq1"
      },
      "source": [
        "### 1) Download the annotated dataset from Roboflow"
      ]
    },
    {
      "cell_type": "code",
      "execution_count": 1,
      "metadata": {
        "colab": {
          "base_uri": "https://localhost:8080/"
        },
        "id": "3GS2b7m3_JRd",
        "outputId": "76baffff-5b59-409d-d012-890b6d8708ac"
      },
      "outputs": [
        {
          "name": "stdout",
          "output_type": "stream",
          "text": [
            "loading Roboflow workspace...\n",
            "loading Roboflow project...\n",
            "[WARNING] we noticed you are downloading a `yolov8` datasets but you don't have `ultralytics` installed. Roboflow `.deploy` supports only models trained with `ultralytics==8.0.196`, to intall it `pip install ultralytics==8.0.196`.\n"
          ]
        },
        {
          "name": "stderr",
          "output_type": "stream",
          "text": [
            "Downloading Dataset Version Zip in dsail-porini-detection-v2-2 to yolov8:: 100%|██████████| 14562/14562 [00:02<00:00, 7137.75it/s] "
          ]
        },
        {
          "name": "stdout",
          "output_type": "stream",
          "text": [
            "\n"
          ]
        },
        {
          "name": "stderr",
          "output_type": "stream",
          "text": [
            "\n",
            "Extracting Dataset Version Zip to dsail-porini-detection-v2-2 in yolov8:: 100%|██████████| 942/942 [00:00<00:00, 8162.37it/s]\n"
          ]
        }
      ],
      "source": [
        "## Install Roboflow\n",
        "!pip install roboflow &>1\n",
        "\n",
        "## Get roboflow api\n",
        "from google.colab import userdata\n",
        "roboflow_api = userdata.get('roboflow_api')\n",
        "\n",
        "## Download the dataset\n",
        "from roboflow import Roboflow\n",
        "rf = Roboflow(api_key=roboflow_api)\n",
        "project = rf.workspace(\"mltowardsobb\").project(\"dsail-porini-detection-v2\")\n",
        "version = project.version(2) ## version 2 contains the original images without any augmentations\n",
        "dataset = version.download(\"yolov8\")"
      ]
    },
    {
      "cell_type": "markdown",
      "metadata": {
        "id": "gpx3hTQqAQjG"
      },
      "source": [
        "### 2) Upload the annotated dataset to a new Roboflow Project"
      ]
    },
    {
      "cell_type": "code",
      "execution_count": 5,
      "metadata": {
        "colab": {
          "base_uri": "https://localhost:8080/"
        },
        "id": "lQ1A81vGCLm7",
        "outputId": "23dffc99-155d-41ad-bdd9-b9896447b795"
      },
      "outputs": [
        {
          "name": "stdout",
          "output_type": "stream",
          "text": [
            "Dataset Path : /content/dsail-porini-detection-v2-2\n"
          ]
        }
      ],
      "source": [
        "PROJECT_NAME = 'dsail-porini-detection-fork'\n",
        "DATASET_PATH = dataset.location\n",
        "print(f\"Dataset Path : {DATASET_PATH}\")"
      ]
    },
    {
      "cell_type": "code",
      "execution_count": 6,
      "metadata": {
        "colab": {
          "base_uri": "https://localhost:8080/"
        },
        "id": "qc8XdlyB_JKW",
        "outputId": "5fa446ee-ea24-4722-9ac2-74d2ade773b9"
      },
      "outputs": [
        {
          "name": "stdout",
          "output_type": "stream",
          "text": [
            "\rloading Roboflow workspace...\n",
            "Active Workspace : MLtowardsobb\n",
            "loading Roboflow project...\n",
            "loading Roboflow project...\n",
            "Uploading to existing project mltowardsobb/dsail-porini-detection-fork\n",
            "[UPLOADED] /content/dsail-porini-detection-v2-2/test/images/BUSHBUCK_2021-11-02-17-29-49_jpg.rf.00a6f9286661bd317de7a31586fd7340.jpg (L5JpyJQJflDpaR68EmlJ) [1.4s] / annotations = OK [0.8s]\n",
            "[UPLOADED] /content/dsail-porini-detection-v2-2/test/images/BUSHBUCK_2021-12-23-17-56-53_jpg.rf.061699955ea287a0e1405b28a9e2bba2.jpg (YsOype7vpuQEeaMCwe9J) [1.5s] / annotations = OK [0.7s]\n",
            "[UPLOADED] /content/dsail-porini-detection-v2-2/test/images/IMPALA_2021-09-05-10-30-00_jpg.rf.59cce63814c2a1df432d068ac2e90a45.jpg (7IMmLlhI34xVBrQUGfLC) [1.5s] / annotations = OK [0.7s]\n",
            "[UPLOADED] /content/dsail-porini-detection-v2-2/test/images/BUSHBUCK_2021-09-21-18-00-25_jpg.rf.74dc955f087b927724a4172ea5fc38cc.jpg (qpzxJOfrwhId3AHIEs38) [1.7s] / annotations = OK [1.0s]\n",
            "[UPLOADED] /content/dsail-porini-detection-v2-2/test/images/BUSHBUCK_2021-12-23-17-54-41_jpg.rf.2b425fc9afb33b1701a772bf1fefe24a.jpg (bz2W32Kv1pGLl1ntxu2O) [1.7s] / annotations = OK [1.1s]\n",
            "[UPLOADED] /content/dsail-porini-detection-v2-2/test/images/BUSHBUCK_2021-11-30-17-54-26_jpg.rf.3ba75104bce586217ba4f4745473fc8d.jpg (KEwNbUN3kSozDebmfMMb) [1.8s] / annotations = OK [1.1s]\n",
            "[UPLOADED] /content/dsail-porini-detection-v2-2/test/images/IMPALA_2021-07-09-09-09-09_jpg.rf.ef228a0c6496920c1896778bedbac726.jpg (wBuxfWv4pTZXNiPmUf57) [1.7s] / annotations = OK [1.2s]\n",
            "[UPLOADED] /content/dsail-porini-detection-v2-2/test/images/BUSHBUCK_2021-12-23-17-56-10_jpg.rf.012bf174116db59ee69c701dc4868d5c.jpg (KWfluVbFLuwSAQ1ZRlr1) [1.7s] / annotations = OK [1.3s][UPLOADED] /content/dsail-porini-detection-v2-2/test/images/BUSHBUCK_2021-12-23-18-17-29_jpg.rf.9850f2c5ef5fe643e0579794fd11d792.jpg (jdzd2zfVNcARwntLgK7R) [1.8s] / annotations = OK [1.2s]\n",
            "\n",
            "[UPLOADED] /content/dsail-porini-detection-v2-2/test/images/IMPALA_2021-08-13-16-21-34_jpg.rf.2bfcb19ab77b17b458fc1eb9a03bb966.jpg (mLFwD9IuFg8AUYZQyrBi) [1.8s] / annotations = OK [1.2s]\n",
            "[UPLOADED] /content/dsail-porini-detection-v2-2/test/images/IMPALA_2021-09-18-10-50-04_jpg.rf.2280e110e3a4f75a21e557bde75dc345.jpg (6h3XjCCO34tvz6XqdwwR) [1.5s] / annotations = OK [0.7s]\n",
            "[UPLOADED] /content/dsail-porini-detection-v2-2/test/images/IMPALA_2021-09-05-10-37-31_jpg.rf.2f0bd93c1b2bb19b2b13308a87bf99c2.jpg (ZFYm2XDi0pbj7Ylq03He) [1.5s] / annotations = OK [0.8s]\n",
            "[UPLOADED] /content/dsail-porini-detection-v2-2/test/images/IMPALA_2021-10-14-16-22-37_jpg.rf.88446dd56fd13389d409164d7b21a1e0.jpg (CxgSe0L8T1yyhGlmHJ0t) [1.4s] / annotations = OK [0.8s]\n",
            "[UPLOADED] /content/dsail-porini-detection-v2-2/test/images/MONKEY_2021-09-22-15-23-22_jpg.rf.1c3981b32c763413c4411454845eda48.jpg (Z19sei5NqwV4I8hG9yRF) [1.2s] / annotations = OK [0.6s]\n",
            "[UPLOADED] /content/dsail-porini-detection-v2-2/test/images/MONKEY_2021-09-22-14-45-43_jpg.rf.32f97f8b8ca177e4e0b5218a063efd7a.jpg (6IhJN5rAkeNFijM7cMQl) [1.3s] / annotations = OK [0.6s]\n",
            "[UPLOADED] /content/dsail-porini-detection-v2-2/test/images/WARTHOG_snapshot_201910943413470_jpg.rf.2f7089f5208c3a06f35fb3519237616a.jpg (KIJDSiGsDOCkGu5bHglg) [1.1s] / annotations = OK [0.6s]\n",
            "[UPLOADED] /content/dsail-porini-detection-v2-2/test/images/MONKEY_2021-08-08-10-27-46_jpg.rf.84caea00a9ed4aebc0cca24d663c185c.jpg (yzJQ5oEHhBpjQk0fiMKC) [1.5s] / annotations = OK [0.7s]\n",
            "[UPLOADED] /content/dsail-porini-detection-v2-2/test/images/WARTHOG_2021-12-08-17-35-34_jpg.rf.6da4ad23cc6ead136143386a97a0ea1c.jpg (S3PVarYipVkryDcT37MI) [1.4s] / annotations = OK [0.7s]\n",
            "[UPLOADED] /content/dsail-porini-detection-v2-2/test/images/WARTHOG_2021-10-14-10-32-52_jpg.rf.0a908e32a97ddc39defb9fcf8917b5d2.jpg (37lwhGPLj6FMe5hqgBrC) [1.4s] / annotations = OK [0.9s]\n",
            "[UPLOADED] /content/dsail-porini-detection-v2-2/test/images/WARTHOG_2021-10-14-10-32-51_jpg.rf.a5659f8fb242dbf0711f6a15bff0a28f.jpg (HT5Cx7hhyuDMov2SRuIw) [1.8s] / annotations = OK [0.7s]\n",
            "[UPLOADED] /content/dsail-porini-detection-v2-2/test/images/WARTHOG_snapshot_20191094341355_jpg.rf.a1cf4f0822d9c6ef221fa04704acda93.jpg (ZTB7xYx6kmSj99ri17LQ) [1.0s] / annotations = OK [0.7s]\n",
            "[UPLOADED] /content/dsail-porini-detection-v2-2/test/images/WATERBUCK_2021-09-29-17-57-33_jpg.rf.7b85a5f3e76a9e7f11f6237bd1b38693.jpg (DyjVHXVHB0qp0k5LMKBf) [1.1s] / annotations = OK [0.8s]\n",
            "[UPLOADED] /content/dsail-porini-detection-v2-2/test/images/WATERBUCK_2021-12-16-17-47-33_jpg.rf.29637e46cf1fe669151b86c08888294e.jpg (c3ZfdRVXwRRIov0LTiK8) [0.9s] / annotations = OK [0.8s]\n",
            "[UPLOADED] /content/dsail-porini-detection-v2-2/test/images/WATERBUCK_2021-07-01-07-00-02_jpg.rf.f96335046f288679afa262ba596b7ab3.jpg (2qLjN7J45hpuapygktFT) [1.1s] / annotations = OK [0.8s]\n",
            "[UPLOADED] /content/dsail-porini-detection-v2-2/test/images/WATERBUCK_2021-12-23-18-28-25_jpg.rf.5ce1c65325cdce72125aa417e7ca457c.jpg (nHzcT8wZBzJKFtU4nNeu) [1.2s] / annotations = OK [0.7s]\n",
            "[UPLOADED] /content/dsail-porini-detection-v2-2/test/images/WATERBUCK_2021-12-25-16-31-43_jpg.rf.bb5ea7589d99c51e2be273d9df4cafa8.jpg (AZN3ELkSXTT3ghVzqU4U) [1.1s] / annotations = OK [0.7s]\n",
            "[UPLOADED] /content/dsail-porini-detection-v2-2/test/images/WATERBUCK_2021-12-16-18-21-37_jpg.rf.2bf01e5727b8a9825c5d7a4a08951f0a.jpg (Sm6y4wlgzQUCxgxnU6UQ) [1.5s] / annotations = OK [0.6s]\n",
            "[UPLOADED] /content/dsail-porini-detection-v2-2/test/images/WATERBUCK_2021-12-25-16-43-06_jpg.rf.5a94448e6a342f5bbf4e9cd38e885e5a.jpg (Q4H88jvND15P5a1SqGBV) [1.0s] / annotations = OK [0.8s]\n",
            "[UPLOADED] /content/dsail-porini-detection-v2-2/test/images/WATERBUCK_2021-12-23-17-57-36_jpg.rf.4a873e1b07ea7e3e611f3c34cbd72167.jpg (XmozeBerCTgVko2hIfs0) [0.9s] / annotations = OK [1.4s]\n",
            "[UPLOADED] /content/dsail-porini-detection-v2-2/test/images/WATERBUCK_2021-12-25-16-43-11_jpg.rf.7e80298116383536cb7d0b0f07614fc1.jpg (Lw2tXFiyg7WnacqmygNh) [1.0s] / annotations = OK [0.7s]\n",
            "[UPLOADED] /content/dsail-porini-detection-v2-2/test/images/WATERBUCK_2021-12-25-16-44-59_jpg.rf.9daa23fb0d855c9cfaf1c8dc15e464b0.jpg (iY1Bq5Uc56sd9sRVMT9a) [0.9s] / annotations = OK [0.6s]\n",
            "[UPLOADED] /content/dsail-porini-detection-v2-2/test/images/WATERBUCK_2021-12-25-17-10-28_jpg.rf.2f58b58e531684c669277fdb7399f7f6.jpg (l2IefqlTyIg7KeSdECEU) [1.0s] / annotations = OK [0.7s]\n",
            "[UPLOADED] /content/dsail-porini-detection-v2-2/test/images/WATERBUCK_2021-12-25-16-57-44_jpg.rf.b3c1f3162fad8d2462a7f1eb02dbce00.jpg (xKnwd9qeTzYMyHgQPNFx) [1.5s] / annotations = OK [0.7s]\n",
            "[UPLOADED] /content/dsail-porini-detection-v2-2/test/images/WATERBUCK_2021-12-25-16-59-22_jpg.rf.af362b3560c0649a7445edcb8f091b75.jpg (mXU5GtjsMRNfmLcWivru) [1.6s] / annotations = OK [0.8s]\n",
            "[UPLOADED] /content/dsail-porini-detection-v2-2/test/images/WATERBUCK_2021-12-25-17-00-40_jpg.rf.233445e260e2c609e51cb6253a21d7d9.jpg (8PiI7SMwJmlqSkBCbHIx) [1.5s] / annotations = OK [0.9s]\n",
            "[UPLOADED] /content/dsail-porini-detection-v2-2/test/images/WATERBUCK_2021-12-25-17-12-11_jpg.rf.738cfb9242515dd4f2339e8a8b7b6047.jpg (Swm59GM8dK8MC1Nq6YWq) [1.3s] / annotations = OK [1.0s]\n",
            "[UPLOADED] /content/dsail-porini-detection-v2-2/test/images/WATERBUCK_snapshot_201910942453495_jpg.rf.6beccd8353aaf803b5294f21b46f575e.jpg (W2PC8W0R2nzqoWMlQTld) [1.1s] / annotations = OK [0.9s]\n",
            "[UPLOADED] /content/dsail-porini-detection-v2-2/test/images/WATERBUCK_2021-12-26-16-39-00_jpg.rf.98d2bf68c560f3e10bc0b3e8c4dd3e83.jpg (aeKGQlKmeNs70mG7skAv) [1.2s] / annotations = OK [0.9s]\n",
            "[UPLOADED] /content/dsail-porini-detection-v2-2/test/images/ZEBRA_2021-10-08-07-18-28_jpg.rf.3edb887746486725d2a212c73d435b4a.jpg (BJdbjJ5R6WdUhjpdwiSM) [1.0s] / annotations = OK [1.0s]\n",
            "[UPLOADED] /content/dsail-porini-detection-v2-2/test/images/ZEBRA_2021-10-08-17-33-31_jpg.rf.935dc233bbdc072a1470570673b5218b.jpg (m301wnO1hr5bAYCHhCs9) [1.0s] / annotations = OK [0.7s]\n",
            "[UPLOADED] /content/dsail-porini-detection-v2-2/test/images/WATERBUCK_2021-12-25-18-44-00_jpg.rf.0ed466e3b01378016e076857911784d6.jpg (QGfUR3yz5UO5SI7DrMgS) [1.7s] / annotations = OK [0.7s]\n",
            "[UPLOADED] /content/dsail-porini-detection-v2-2/test/images/ZEBRA_2021-10-08-17-33-47_jpg.rf.b566416d215d75be60a777b307a65098.jpg (52qIkg7rZLJI8XJljipP) [1.0s] / annotations = OK [0.6s]\n",
            "[UPLOADED] /content/dsail-porini-detection-v2-2/test/images/ZEBRA_2021-10-16-18-18-24_jpg.rf.1739562bd0942a174010555c8cac3028.jpg (I9yI4OSjQboe6x3TGsO4) [1.2s] / annotations = OK [0.8s]\n",
            "[UPLOADED] /content/dsail-porini-detection-v2-2/test/images/ZEBRA_2021-10-17-15-04-04_jpg.rf.76f81349f4bc2624ec75902ce5c6eb62.jpg (L8wHOG2jSxElCKHfx6KL) [1.0s] / annotations = OK [0.8s]\n",
            "[UPLOADED] /content/dsail-porini-detection-v2-2/test/images/ZEBRA_2021-11-25-10-05-17_jpg.rf.d811901a5681b1e0ed778457bfe42cd0.jpg (1aOcBkS1polVnPNBREnl) [0.9s] / annotations = OK [0.8s]\n",
            "[UPLOADED] /content/dsail-porini-detection-v2-2/test/images/ZEBRA_snapshot_201910835541179_jpg.rf.9a641adf62b8c399d88299481db7e9d9.jpg (UOGWTS7AziNHZVlErGLE) [0.9s] / annotations = OK [0.7s]\n",
            "[UPLOADED] /content/dsail-porini-detection-v2-2/train/images/BUSHBUCK_2021-09-05-17-59-09_jpg.rf.fab879da03cf5a9f5e6bcab66e9dc023.jpg (hqMinvkE8bDuuHOGOXZ8) [1.0s] / annotations = OK [0.7s]\n",
            "[UPLOADED] /content/dsail-porini-detection-v2-2/train/images/BUSHBUCK_2021-09-03-17-52-30_jpg.rf.807a5e75c01313280417dbe3d8e0cd00.jpg (6GUrkQJMS4sec7CgvstV) [1.1s] / annotations = OK [0.8s]\n",
            "[UPLOADED] /content/dsail-porini-detection-v2-2/train/images/BUSHBUCK_2021-09-03-17-52-33_jpg.rf.671a20f320e0a0c02cfc5490f31c67bc.jpg (pAsehxyXQyxbcF8MZjCo) [1.1s] / annotations = OK [0.8s]\n",
            "[UPLOADED] /content/dsail-porini-detection-v2-2/train/images/BUSHBUCK_2021-08-23-06-52-46_jpg.rf.67579efab12cd6c6bbe0b4bd638591ec.jpg (DjlDQxkUPnhuKeAt7qpH) [1.3s] / annotations = OK [0.7s]\n",
            "[UPLOADED] /content/dsail-porini-detection-v2-2/train/images/BUSHBUCK_2021-09-05-17-59-31_jpg.rf.5e0177b7b0da5f315cf4a4a2656615e3.jpg (nCua7PIIfogAMql8EhQu) [1.2s] / annotations = OK [0.8s]\n",
            "[UPLOADED] /content/dsail-porini-detection-v2-2/train/images/BUSHBUCK_2021-09-23-08-36-29_jpg.rf.edad07da947f41b6915717a5ed28f4e4.jpg (G7Uap8enl0bBUwEPJUme) [1.1s] / annotations = OK [0.7s]\n",
            "[UPLOADED] /content/dsail-porini-detection-v2-2/train/images/BUSHBUCK_2021-09-23-08-36-33_jpg.rf.0e47f76fe9f6b662b4cc355a144bcc1e.jpg (TL6ln88KCUi7jxPuLwua) [1.0s] / annotations = OK [0.6s]\n",
            "[UPLOADED] /content/dsail-porini-detection-v2-2/train/images/BUSHBUCK_2021-09-23-08-37-01_jpg.rf.e0e5d7b13d2e83e8c5f899068c762de2.jpg (fAneJepPrL9i84bstrqg) [1.0s] / annotations = OK [0.6s]\n",
            "[UPLOADED] /content/dsail-porini-detection-v2-2/train/images/BUSHBUCK_2021-09-23-08-36-36_jpg.rf.d1ea61885424111bf751cf83e1d9e1e1.jpg (sr6xBDRlvtXW4dJMBCmb) [1.2s] / annotations = OK [0.7s]\n",
            "[UPLOADED] /content/dsail-porini-detection-v2-2/train/images/BUSHBUCK_2021-09-23-08-36-58_jpg.rf.0b26c10aec75342186d59eb2eee0df65.jpg (I8VdHPMjZB8CZNuACZbZ) [1.2s] / annotations = OK [0.7s]\n",
            "[UPLOADED] /content/dsail-porini-detection-v2-2/train/images/BUSHBUCK_2021-09-23-08-37-05_jpg.rf.de7d5e9be40020a5f135e42f826578c5.jpg (kgyckdOF2xGy5TTvA5gx) [1.0s] / annotations = OK [0.7s]\n",
            "[UPLOADED] /content/dsail-porini-detection-v2-2/train/images/BUSHBUCK_2021-09-23-08-37-17_jpg.rf.eea5f4641a7a44900db9e8f65bd9f5e9.jpg (sYjpfTw9rx8IY5b3DNHh) [1.0s] / annotations = OK [0.7s]\n",
            "[UPLOADED] /content/dsail-porini-detection-v2-2/train/images/BUSHBUCK_2021-09-23-08-37-33_jpg.rf.6a0b64ea827bd43068d7e48fa3c55aca.jpg (AzwO75Y8ams6H5cBFpXI) [1.1s] / annotations = OK [0.6s]\n",
            "[UPLOADED] /content/dsail-porini-detection-v2-2/train/images/BUSHBUCK_2021-09-23-08-37-24_jpg.rf.cc7d58ee30bcb035d3756566aec6cad0.jpg (UWC97yFIKQ9PvoVCyLiY) [1.4s] / annotations = OK [1.0s]\n",
            "[UPLOADED] /content/dsail-porini-detection-v2-2/train/images/BUSHBUCK_2021-09-23-09-08-37_jpg.rf.ee121973018fe5a4f754e7b335492283.jpg (Nt4uvLNretOEsTlgXeU2) [1.0s] / annotations = OK [0.7s]\n",
            "[UPLOADED] /content/dsail-porini-detection-v2-2/train/images/BUSHBUCK_2021-09-23-08-37-37_jpg.rf.eabb330cdd29e6a1f60f9c102389975b.jpg (eERacC1F2w6aGQ4RSRhF) [1.7s] / annotations = OK [1.0s]\n",
            "[UPLOADED] /content/dsail-porini-detection-v2-2/train/images/BUSHBUCK_2021-09-23-09-08-40_jpg.rf.624deb4b57437130f6526297bf974a8f.jpg (jbbWrLdvPHu6NCJ6GxvS) [1.1s] / annotations = OK [0.7s]\n",
            "[UPLOADED] /content/dsail-porini-detection-v2-2/train/images/BUSHBUCK_2021-09-23-08-37-40_jpg.rf.ab5a9e9a11f1ba2f0c2d439abf5ccbb1.jpg (ez7JtuDQnvm5I4P4vxHe) [1.8s] / annotations = OK [0.7s]\n",
            "[UPLOADED] /content/dsail-porini-detection-v2-2/train/images/BUSHBUCK_2021-09-23-09-08-44_jpg.rf.21cb455bce746cb08a07ca2f58471080.jpg (1JTnBeB1BgDuBlREmKfx) [1.3s] / annotations = OK [0.8s]\n",
            "[UPLOADED] /content/dsail-porini-detection-v2-2/train/images/BUSHBUCK_2021-09-23-09-08-47_jpg.rf.0ae20b0be9c3564dde69126b3b3373c1.jpg (S7fLxmmvBbvuUuBQIxcc) [1.3s] / annotations = OK [0.9s]\n",
            "[UPLOADED] /content/dsail-porini-detection-v2-2/train/images/BUSHBUCK_2021-09-25-17-49-03_jpg.rf.1d9dcab520891346d7313cc22b3cb259.jpg (vH4UrdtqC40zVlCtQFue) [1.4s] / annotations = OK [0.9s]\n",
            "[UPLOADED] /content/dsail-porini-detection-v2-2/train/images/BUSHBUCK_2021-09-25-17-49-16_jpg.rf.64e67efb6f451f7287eaf148b639eb14.jpg (enS4wgwNFtx2I2v1K6E9) [1.3s] / annotations = OK [0.9s]\n",
            "[UPLOADED] /content/dsail-porini-detection-v2-2/train/images/BUSHBUCK_2021-09-25-17-49-12_jpg.rf.76ef17fe0d2d4b8e0e23e36a2c22fc00.jpg (BxVQO4GN6ZwdHFR2zCfV) [1.6s] / annotations = OK [0.8s]\n",
            "[UPLOADED] /content/dsail-porini-detection-v2-2/train/images/BUSHBUCK_2021-11-02-17-29-47_jpg.rf.3a5727fdca53bfacdb75000fb948926a.jpg (UjtyqD6NCFB5ZaZRM6RN) [0.9s] / annotations = OK [0.8s]\n",
            "[UPLOADED] /content/dsail-porini-detection-v2-2/train/images/BUSHBUCK_2021-11-02-17-29-53_jpg.rf.f6c0cd92641c83672ddc62764001fe06.jpg (qqdqXvGDBJ4i1AVBVI1n) [1.3s] / annotations = OK [0.9s]\n",
            "[UPLOADED] /content/dsail-porini-detection-v2-2/train/images/BUSHBUCK_2021-11-02-17-29-56_jpg.rf.d9b3117b8464ae5b4e0a37e47f2cc91c.jpg (xslMn0qiZjhCj2wywI8S) [1.2s] / annotations = OK [0.9s]\n",
            "[UPLOADED] /content/dsail-porini-detection-v2-2/train/images/BUSHBUCK_2021-11-30-16-41-23_jpg.rf.4ee5b14efde1eb42952213f93026a384.jpg (aHxOrEj5zy9YYrO5h0b9) [1.3s] / annotations = OK [0.7s]\n",
            "[UPLOADED] /content/dsail-porini-detection-v2-2/train/images/BUSHBUCK_2021-11-30-17-54-24_jpg.rf.94a1c8f1b4deedf5d4140903003c692d.jpg (dS7Cg5GUk0fxhpZm3ZBw) [0.9s] / annotations = OK [0.7s]\n",
            "[UPLOADED] /content/dsail-porini-detection-v2-2/train/images/BUSHBUCK_2021-11-30-16-41-25_jpg.rf.a5a494597751ce64e2e70c521abac128.jpg (roFPR1tVPPLL9solI64O) [1.3s] / annotations = OK [0.8s]\n",
            "[UPLOADED] /content/dsail-porini-detection-v2-2/train/images/BUSHBUCK_2021-11-30-17-33-04_jpg.rf.94ae9bafcd3711f8657144bc1fccf206.jpg (n2ojzclhe2Noxax6iL9H) [1.2s] / annotations = OK [0.8s]\n",
            "[UPLOADED] /content/dsail-porini-detection-v2-2/train/images/BUSHBUCK_2021-12-02-17-31-47_jpg.rf.92e9ce33f8ef074dc5d088fccfc9723c.jpg (xb0blvU1TRMm6HpLcBvB) [1.0s] / annotations = OK [0.7s]\n",
            "[UPLOADED] /content/dsail-porini-detection-v2-2/train/images/BUSHBUCK_2021-12-02-17-31-50_jpg.rf.6b39e12995a98b94a1010e8740b9453f.jpg (fpg26bagYQuLrK2KPXL1) [1.1s] / annotations = OK [0.8s]\n",
            "[UPLOADED] /content/dsail-porini-detection-v2-2/train/images/BUSHBUCK_2021-12-02-17-31-54_jpg.rf.d6ba29dd3c4c3894c9f272a9a2d85d9c.jpg (gR8NKqskUrkHRaT9WO2d) [1.3s] / annotations = OK [0.8s]\n",
            "[UPLOADED] /content/dsail-porini-detection-v2-2/train/images/BUSHBUCK_2021-12-02-17-31-57_jpg.rf.9eb525c51a5eb89bd62cab9cbe563d09.jpg (YbJivTKjYA7trGZ2MYyu) [1.2s] / annotations = OK [0.8s]\n",
            "[UPLOADED] /content/dsail-porini-detection-v2-2/train/images/BUSHBUCK_2021-12-02-17-32-05_jpg.rf.5b853ed6609ac608ee4204d3c2894884.jpg (5wEQPmNTsz1NdzlD20Ib) [1.0s] / annotations = OK [0.6s]\n",
            "[UPLOADED] /content/dsail-porini-detection-v2-2/train/images/BUSHBUCK_2021-12-02-17-32-45_jpg.rf.376bdca920e997eea548e3acf171d4d8.jpg (heu7DdvlrrTL7xLg9tGR) [1.1s] / annotations = OK [0.7s]\n",
            "[UPLOADED] /content/dsail-porini-detection-v2-2/train/images/BUSHBUCK_2021-12-08-17-56-02_jpg.rf.8deac3700bec6f3224b86df38d79e42d.jpg (o157odTvC8XmvOIUfBQv) [1.4s] / annotations = OK [0.6s]\n",
            "[UPLOADED] /content/dsail-porini-detection-v2-2/train/images/BUSHBUCK_2021-12-23-17-51-55_jpg.rf.ae01bf25a2591f448def0b98f8abbab6.jpg (DnPr1IUkMqifHFpTUD9v) [1.5s] / annotations = OK [0.7s]\n",
            "[UPLOADED] /content/dsail-porini-detection-v2-2/train/images/BUSHBUCK_2021-12-23-17-54-43_jpg.rf.4c59622f40333007dd87f6e6a3777346.jpg (rvMczyu7TvKeMKLXKESE) [1.3s] / annotations = OK [0.8s]\n",
            "[UPLOADED] /content/dsail-porini-detection-v2-2/train/images/BUSHBUCK_2021-12-23-17-55-46_jpg.rf.3c14c01640d687f566735cea5d390c2e.jpg (8Yyf7ND3TdlSZHU4DbRb) [1.0s] / annotations = OK [0.8s]\n",
            "[UPLOADED] /content/dsail-porini-detection-v2-2/train/images/BUSHBUCK_2021-12-23-17-55-36_jpg.rf.ea9a1e0c21c6ec6f69ec0f8ae2a025f7.jpg (0xIPMm0KoUutKWyNBcSQ) [1.2s] / annotations = OK [0.7s]\n",
            "[UPLOADED] /content/dsail-porini-detection-v2-2/train/images/BUSHBUCK_2021-12-23-17-51-52_jpg.rf.e5146bc0320f127557b5bfd1da0ca014.jpg (lDXWtCLyjdi4ymiHsQX4) [2.2s] / annotations = OK [0.8s]\n",
            "[UPLOADED] /content/dsail-porini-detection-v2-2/train/images/BUSHBUCK_2021-12-23-17-55-48_jpg.rf.756cad82a91c11b8279c50a7ba18f29f.jpg (1W7D6gweH8Aq2AVnus5P) [1.1s] / annotations = OK [0.8s]\n",
            "[UPLOADED] /content/dsail-porini-detection-v2-2/train/images/BUSHBUCK_2021-12-16-17-38-02_jpg.rf.15a619fe7221e1bcded0de469fafc60b.jpg (Nweh081a2vOGyJJSsSK1) [2.3s] / annotations = OK [0.9s]\n",
            "[UPLOADED] /content/dsail-porini-detection-v2-2/train/images/BUSHBUCK_2021-12-23-17-55-50_jpg.rf.9103b040c705e529582906556794c33f.jpg (YDjIvDlOu4i73n8X7QZp) [1.1s] / annotations = OK [0.8s]\n",
            "[UPLOADED] /content/dsail-porini-detection-v2-2/train/images/BUSHBUCK_2021-12-08-17-55-48_jpg.rf.13751cd9d3aa7de01365e09c97438d61.jpg (2cGJ13OS3QZwClb7M2Tv) [2.9s] / annotations = OK [0.8s]\n",
            "[UPLOADED] /content/dsail-porini-detection-v2-2/train/images/BUSHBUCK_2021-12-23-17-55-55_jpg.rf.f91780147290e0b11c7c2ccf14af482f.jpg (3gTAKCXPYWTYaEQmXIe3) [1.0s] / annotations = OK [0.6s]\n",
            "[UPLOADED] /content/dsail-porini-detection-v2-2/train/images/BUSHBUCK_2021-12-23-17-55-58_jpg.rf.8f8ecf0443e53aefa1c248ee0d0de977.jpg (lOCXyT70Y1JBvp4WGiY1) [1.0s] / annotations = OK [0.9s]\n",
            "[UPLOADED] /content/dsail-porini-detection-v2-2/train/images/BUSHBUCK_2021-12-23-17-56-00_jpg.rf.53f408b66460394689a5f9bbb1bd0339.jpg (5QgCSgGG1cgwlR3vbv5n) [1.0s] / annotations = OK [0.6s]\n",
            "[UPLOADED] /content/dsail-porini-detection-v2-2/train/images/BUSHBUCK_2021-12-23-17-56-02_jpg.rf.8036ebf1d2b8e7d45f778aee74fc3851.jpg (pvKBqWyIN3JT3fx259T8) [1.1s] / annotations = OK [0.6s]\n",
            "[UPLOADED] /content/dsail-porini-detection-v2-2/train/images/BUSHBUCK_2021-12-23-17-56-07_jpg.rf.0622ee849602f74cd8b97225cbd19c90.jpg (kAMKgD0ggjHgIxapwkJt) [1.2s] / annotations = OK [0.6s]\n",
            "[UPLOADED] /content/dsail-porini-detection-v2-2/train/images/BUSHBUCK_2021-12-23-17-56-58_jpg.rf.7bd9626ebada4709d92c199ebf0aa5cc.jpg (1Oy2xG19AQY79U9niG3H) [0.9s] / annotations = OK [0.6s]\n",
            "[UPLOADED] /content/dsail-porini-detection-v2-2/train/images/BUSHBUCK_2021-12-25-18-36-21_jpg.rf.318c8a2c3fed330b217162c18892cff5.jpg (EOsgdqiLZBaTmb41EbCl) [0.9s] / annotations = OK [0.7s]\n",
            "[UPLOADED] /content/dsail-porini-detection-v2-2/train/images/BUSHBUCK_2021-12-23-18-17-32_jpg.rf.c763e5649ab9da99c7fe937b01a23fa6.jpg (vdT8hZQTdgTSX0iMj4BU) [1.0s] / annotations = OK [0.7s]\n",
            "[UPLOADED] /content/dsail-porini-detection-v2-2/train/images/BUSHBUCK_2021-12-23-17-57-10_jpg.rf.5dceeabc22f93bc8bee8e2bfe9bb7391.jpg (C4k2wPK153XK1uhNwW32) [1.2s] / annotations = OK [0.8s]\n",
            "[UPLOADED] /content/dsail-porini-detection-v2-2/train/images/BUSHBUCK_2021-12-26-16-53-42_jpg.rf.63d18a80e27b697a09469ceee5057b08.jpg (29w8y4buC3gPrIv4XPLU) [0.9s] / annotations = OK [0.8s]\n",
            "[UPLOADED] /content/dsail-porini-detection-v2-2/train/images/BUSHBUCK_2021-12-25-18-36-23_jpg.rf.899773c930972ade84be210fe9ae2c32.jpg (RWa7TCBJGFqetAWqJJmd) [1.0s] / annotations = OK [0.9s]\n",
            "[UPLOADED] /content/dsail-porini-detection-v2-2/train/images/BUSHBUCK_2021-12-26-16-53-44_jpg.rf.1772f7e71342c0125c14faa8ad815c54.jpg (uT9fujAQouwtImB1k8SM) [1.1s] / annotations = OK [0.7s]\n",
            "[UPLOADED] /content/dsail-porini-detection-v2-2/train/images/BUSHBUCK_2021-12-26-16-53-47_jpg.rf.5e88319044ea4363d9afe068289c295a.jpg (Hmc8qMFiMRKsjTIuiQ6e) [1.2s] / annotations = OK [0.6s]\n",
            "[UPLOADED] /content/dsail-porini-detection-v2-2/train/images/IMPALA_2021-07-09-09-37-15_jpg.rf.21e74950391c1689d2e1fc718dd4bc42.jpg (QYr2B5z4uumGH8UQSAU7) [1.0s] / annotations = OK [0.6s]\n",
            "[UPLOADED] /content/dsail-porini-detection-v2-2/train/images/IMPALA_2021-07-09-09-10-54_jpg.rf.3b166783a0acf353f77ab235fab951f1.jpg (eASUC0AnlesYSQTTUifA) [1.3s] / annotations = OK [0.6s]\n",
            "[UPLOADED] /content/dsail-porini-detection-v2-2/train/images/IMPALA_2021-07-09-17-49-24_jpg.rf.9e93482c9febee64737fddff42174c47.jpg (6O3HO4OGzhhUmqh9tTKy) [0.9s] / annotations = OK [0.6s]\n",
            "[UPLOADED] /content/dsail-porini-detection-v2-2/train/images/IMPALA_2021-07-09-17-49-27_jpg.rf.2aeb4a98173aca52f1ad36238b0e9b71.jpg (AFMBdOiHvgCZzyqO8ht1) [0.9s] / annotations = OK [0.6s]\n",
            "[UPLOADED] /content/dsail-porini-detection-v2-2/train/images/IMPALA_2021-07-09-09-09-05_jpg.rf.d8f8da1ec32804d4352e885e85343263.jpg (JrK7efqteU40EXQd9mGT) [1.6s] / annotations = OK [0.6s]\n",
            "[UPLOADED] /content/dsail-porini-detection-v2-2/train/images/IMPALA_2021-08-01-07-31-10_jpg.rf.02515c43b6dfb10b47b6846881681681.jpg (nbzeHNgqcy2hM1hKzBLK) [1.7s] / annotations = OK [0.6s]\n",
            "[UPLOADED] /content/dsail-porini-detection-v2-2/train/images/IMPALA_2021-08-14-12-53-58_jpg.rf.8c0c55d6c4036d41de777f242939d45b.jpg (V6U8Yx7Rh0ekqLeYTAlI) [1.1s] / annotations = OK [0.9s]\n",
            "[UPLOADED] /content/dsail-porini-detection-v2-2/train/images/IMPALA_2021-08-01-07-31-13_jpg.rf.31f692e6a123bf0464251021f17c2475.jpg (B8w4oGZa4hklLtQYGOTf) [1.9s] / annotations = OK [0.9s]\n",
            "[UPLOADED] /content/dsail-porini-detection-v2-2/train/images/IMPALA_2021-08-14-12-54-01_jpg.rf.7f8304d3a3d11838cae6f46e035de979.jpg (ZpmcLqrMCjN0fxj3dZPu) [1.0s] / annotations = OK [1.0s]\n",
            "[UPLOADED] /content/dsail-porini-detection-v2-2/train/images/IMPALA_2021-08-13-16-21-44_jpg.rf.9952946002feac9590abd4126b2cd497.jpg (0slYHF6wVgoKGoSd2gDP) [1.3s] / annotations = OK [1.0s]\n",
            "[UPLOADED] /content/dsail-porini-detection-v2-2/train/images/IMPALA_2021-08-01-07-31-35_jpg.rf.ffdf54d6151542f1fff14b4dcfed8ba1.jpg (7VgkPPkqYtZfTWWuZm2H) [2.0s] / annotations = OK [1.0s]\n",
            "[UPLOADED] /content/dsail-porini-detection-v2-2/train/images/IMPALA_2021-09-05-10-29-50_jpg.rf.5910ea6be490f3b0ce01f109c01b51ce.jpg (Kzfa8agYfbFoW6JTEyKM) [1.0s] / annotations = OK [0.9s]\n",
            "[UPLOADED] /content/dsail-porini-detection-v2-2/train/images/IMPALA_2021-09-05-10-29-37_jpg.rf.d59a3fd1eb28d59f5e6905b91cca70e3.jpg (haPPnWicVYQqQFOmVmT7) [1.1s] / annotations = OK [0.9s]\n",
            "[UPLOADED] /content/dsail-porini-detection-v2-2/train/images/IMPALA_2021-09-05-10-30-10_jpg.rf.c89e45cd5688d8cc0019637946150afb.jpg (1eezlZyaOahbXVHDuZmJ) [1.1s] / annotations = OK [0.8s]\n",
            "[UPLOADED] /content/dsail-porini-detection-v2-2/train/images/IMPALA_2021-09-05-10-29-57_jpg.rf.08576a3f6fd0099cc2918b237f6b2e33.jpg (DUDLc3BSPDRRPdBRB4Ol) [1.2s] / annotations = OK [0.8s]\n",
            "[UPLOADED] /content/dsail-porini-detection-v2-2/train/images/IMPALA_2021-09-05-10-30-29_jpg.rf.844a265c9c4fb08a571950e13ea4ac15.jpg (bdkkzj6MX9M7GjE2a4Rx) [1.1s] / annotations = OK [0.7s]\n",
            "[UPLOADED] /content/dsail-porini-detection-v2-2/train/images/IMPALA_2021-09-05-10-37-34_jpg.rf.95e7193f013ba87bc399e5ecc48f423f.jpg (ucoseyFPrSwVD0SHQU0t) [1.0s] / annotations = OK [0.7s]\n",
            "[UPLOADED] /content/dsail-porini-detection-v2-2/train/images/IMPALA_2021-09-05-10-31-20_jpg.rf.cfab6ee932c6e11152fa78300049ba45.jpg (BJoOckhjRlYYOavvbMnz) [1.1s] / annotations = OK [0.7s]\n",
            "[UPLOADED] /content/dsail-porini-detection-v2-2/train/images/IMPALA_2021-09-14-10-47-56_jpg.rf.c33eb85740fa9ed2aafa2707d032c3cc.jpg (zFqYKKBum9tj63X4xvtK) [1.1s] / annotations = OK [0.6s]\n",
            "[UPLOADED] /content/dsail-porini-detection-v2-2/train/images/IMPALA_2021-09-15-10-32-34_jpg.rf.e34bd39528862e90d4c7bc65beb78812.jpg (yCZ2K5tESEZ5G9zSL2z7) [1.2s] / annotations = OK [0.6s]\n",
            "[UPLOADED] /content/dsail-porini-detection-v2-2/train/images/IMPALA_2021-09-14-10-48-53_jpg.rf.c281e0a6649a4e082b594593ac0a019d.jpg (xt6667OQAVY9Uc5omVVu) [1.3s] / annotations = OK [0.7s]\n",
            "[UPLOADED] /content/dsail-porini-detection-v2-2/train/images/IMPALA_2021-09-14-10-48-06_jpg.rf.a48913f8817981e67d16297f852e2961.jpg (673ltJ9ij6sXdIUR9eG7) [1.5s] / annotations = OK [0.6s]\n",
            "[UPLOADED] /content/dsail-porini-detection-v2-2/train/images/IMPALA_2021-09-14-12-23-03_jpg.rf.6c503b01fb8b308752322a96afafd78e.jpg (OFyzZ3HdgZ0GSKHKffgA) [1.7s] / annotations = OK [0.7s]\n",
            "[UPLOADED] /content/dsail-porini-detection-v2-2/train/images/IMPALA_2021-09-18-10-50-15_jpg.rf.89fdc9ccd21d4b8323506ac3e1066f0e.jpg (dQSXwcbkPDiXayRfV039) [1.6s] / annotations = OK [0.7s]\n",
            "[UPLOADED] /content/dsail-porini-detection-v2-2/train/images/IMPALA_2021-10-02-15-31-16_jpg.rf.864e37d1013dfa3cc86e9dc9f286adec.jpg (hFI4hyNufoYwQ9rO8ioE) [0.9s] / annotations = OK [0.8s]\n",
            "[UPLOADED] /content/dsail-porini-detection-v2-2/train/images/IMPALA_2021-09-18-10-49-16_jpg.rf.60aaed80229407c8dbc06a5321d4c5cf.jpg (ELXN0xzmOKCY81WvhwJD) [2.0s] / annotations = OK [0.9s]\n",
            "[UPLOADED] /content/dsail-porini-detection-v2-2/train/images/IMPALA_2021-10-13-17-50-14_jpg.rf.12e4549ef037ba5bb90fa10d2b28dbaf.jpg (bprPgR4hD8gykkV8i28b) [0.8s] / annotations = OK [0.8s]\n",
            "[UPLOADED] /content/dsail-porini-detection-v2-2/train/images/IMPALA_2021-10-13-17-50-16_jpg.rf.4cce4a99bd18f14a730dca74f3f8b35f.jpg (kVC0ulPYk8Lbj4XvROqK) [0.8s] / annotations = OK [0.8s]\n",
            "[UPLOADED] /content/dsail-porini-detection-v2-2/train/images/IMPALA_2021-10-08-06-21-50_jpg.rf.642c58b85c729a441bb40f9f15ef05ec.jpg (OpbyExfFO3rqLkTJK7nE) [1.1s] / annotations = OK [0.8s]\n",
            "[UPLOADED] /content/dsail-porini-detection-v2-2/train/images/IMPALA_2021-10-13-17-50-17_jpg.rf.9f1f38400fe06c5dcc0d207f412aa766.jpg (XK0YtznKlywdRUtTQWpQ) [1.1s] / annotations = OK [0.8s]\n",
            "[UPLOADED] /content/dsail-porini-detection-v2-2/train/images/IMPALA_2021-10-13-17-52-41_jpg.rf.84cce75bd105e1dbdb416b0994785d4b.jpg (or9ZbArZwBTv6FbuPYUE) [1.1s] / annotations = OK [0.9s]\n",
            "[UPLOADED] /content/dsail-porini-detection-v2-2/train/images/IMPALA_2021-10-13-17-52-43_jpg.rf.b2d7232ba671a708c441abe48b3572be.jpg (PfwtQwx4pQOPPNX6pGCI) [1.1s] / annotations = OK [1.0s]\n",
            "[UPLOADED] /content/dsail-porini-detection-v2-2/train/images/IMPALA_2021-10-13-17-57-37_jpg.rf.cfc7a50d0b4d6015f0ecdca26f8589d2.jpg (3RPQK8gBwpyVTGQQznky) [1.9s] / annotations = OK [0.6s]\n",
            "[UPLOADED] /content/dsail-porini-detection-v2-2/train/images/IMPALA_2021-10-14-06-05-25_jpg.rf.444f84f9e343741651e552607577e177.jpg (BfKRORrSOLLJozOH30Mn) [1.9s] / annotations = OK [0.7s]\n",
            "[UPLOADED] /content/dsail-porini-detection-v2-2/train/images/IMPALA_2021-10-14-16-20-05_jpg.rf.ddc357b2d94e8bda1f5027910a3fa5cb.jpg (AYajIIEA5SshO5E2yjlJ) [1.5s] / annotations = OK [0.7s]\n",
            "[UPLOADED] /content/dsail-porini-detection-v2-2/train/images/IMPALA_2021-10-14-16-20-08_jpg.rf.ab7a457fdf2deec65ab02f7b975031b4.jpg (bWASYQQjbekeAO2WpDIc) [1.4s] / annotations = OK [0.6s]\n",
            "[UPLOADED] /content/dsail-porini-detection-v2-2/train/images/IMPALA_2021-10-14-16-18-03_jpg.rf.c9000c74ffdd2636b720e0d2e2004f2e.jpg (hH2QHcYpO9lIVHBWFpsI) [2.0s] / annotations = OK [0.7s]\n",
            "[UPLOADED] /content/dsail-porini-detection-v2-2/train/images/IMPALA_2021-10-14-16-20-10_jpg.rf.2689d41861e80785f4cf291a1ec763cb.jpg (5XouDuuHP5eqP0Fh0q5z) [1.4s] / annotations = OK [0.7s]\n",
            "[UPLOADED] /content/dsail-porini-detection-v2-2/train/images/IMPALA_2021-10-14-16-20-11_jpg.rf.4d74ad027ad3b7fec6307a6e34c4b5ad.jpg (ZbFJxErfa2KP9eY8gNo0) [1.3s] / annotations = OK [0.8s]\n",
            "[UPLOADED] /content/dsail-porini-detection-v2-2/train/images/IMPALA_2021-10-14-16-20-13_jpg.rf.de48a5280badef295d9318eadbee3adc.jpg (aL5p4wONglRh44HB1J1I) [1.2s] / annotations = OK [0.7s]\n",
            "[UPLOADED] /content/dsail-porini-detection-v2-2/train/images/IMPALA_2021-10-14-16-20-16_jpg.rf.a7201becb33f5178f6f5ceb27ffb9526.jpg (MYi7HPXFsjXJOmPxbNRd) [0.9s] / annotations = OK [0.8s]\n",
            "[UPLOADED] /content/dsail-porini-detection-v2-2/train/images/IMPALA_2021-10-14-16-20-14_jpg.rf.f2aab8e690e7c3a441a8c72bcaac4f36.jpg (eNMgxNZupMOtoSNLGUhP) [1.0s] / annotations = OK [1.0s]\n",
            "[UPLOADED] /content/dsail-porini-detection-v2-2/train/images/IMPALA_2021-10-15-06-08-29_jpg.rf.234af966ad383454c72dda31f3eba427.jpg (3YOXsptlG3Ygt0XzJVX1) [1.0s] / annotations = OK [0.8s]\n",
            "[UPLOADED] /content/dsail-porini-detection-v2-2/train/images/IMPALA_2021-10-15-16-59-59_jpg.rf.a7bb2c9623fad471e6aadfc4fef5d7d5.jpg (OxY1FXP28KqwxpLEloTH) [1.3s] / annotations = OK [0.7s]\n",
            "[UPLOADED] /content/dsail-porini-detection-v2-2/train/images/IMPALA_2021-10-15-17-27-51_jpg.rf.3509ae1ade5640fcf68c9143bd7515ef.jpg (qsu4UBGsBl27rEyHC7Xw) [1.1s] / annotations = OK [0.7s]\n",
            "[UPLOADED] /content/dsail-porini-detection-v2-2/train/images/IMPALA_2021-10-15-17-00-00_jpg.rf.6e6bf6253731ebb34fdec93fe66979c0.jpg (GWvBb8MNzlp8hhlm5lsQ) [1.5s] / annotations = OK [0.7s]\n",
            "[UPLOADED] /content/dsail-porini-detection-v2-2/train/images/IMPALA_2021-10-18-06-24-23_jpg.rf.31f802adaff171842ada4f148e1755c6.jpg (Ld0u0r8mxtXfUm20o6zA) [1.0s] / annotations = OK [0.7s]\n",
            "[UPLOADED] /content/dsail-porini-detection-v2-2/train/images/IMPALA_2021-10-15-17-25-47_jpg.rf.1558a20ec1590ca70c3101a3cd441b9a.jpg (yT2s67sSIpDMV2yVxacq) [1.5s] / annotations = OK [0.7s]\n",
            "[UPLOADED] /content/dsail-porini-detection-v2-2/train/images/IMPALA_2021-10-17-06-35-34_jpg.rf.158e74b764590af258fe389d322981d6.jpg (uoamI0czjMU7jRFRyDj0) [1.6s] / annotations = OK [0.6s]\n",
            "[UPLOADED] /content/dsail-porini-detection-v2-2/train/images/IMPALA_2021-10-22-06-16-17_jpg.rf.9012e6ca5e5bfa33a5e2174ef24dd360.jpg (DTOrSsLkdHZ9q9IwFjqz) [1.2s] / annotations = OK [0.7s]\n",
            "[UPLOADED] /content/dsail-porini-detection-v2-2/train/images/IMPALA_2021-10-22-06-15-10_jpg.rf.e50e625ecfde4ea540714936c9f1404e.jpg (62Ni8eQFVVWZJvqbEUWY) [1.2s] / annotations = OK [0.7s]\n",
            "[UPLOADED] /content/dsail-porini-detection-v2-2/train/images/IMPALA_2021-10-17-06-29-34_jpg.rf.4f5c06b8084bfc9b921da2aca4c48ae1.jpg (zPdxhNKRXaXME5n8KaZL) [1.8s] / annotations = OK [1.0s]\n",
            "[UPLOADED] /content/dsail-porini-detection-v2-2/train/images/IMPALA_2021-10-22-15-02-01_jpg.rf.ff72905f40dc6f4f04b0b53a3439cded.jpg (fFxNCK0PSMv2ggXbk7Os) [1.4s] / annotations = OK [0.6s]\n",
            "[UPLOADED] /content/dsail-porini-detection-v2-2/train/images/IMPALA_2021-11-14-06-02-12_jpg.rf.de96f64c25800a1c80a10349acedd424.jpg (Yhegb2MvsmZD2BAIwzQN) [1.2s] / annotations = OK [0.7s]\n",
            "[UPLOADED] /content/dsail-porini-detection-v2-2/train/images/IMPALA_2021-11-14-06-02-15_jpg.rf.41e95dfac78a91184a1c506ccf9cce60.jpg (pa20edV0dAmvJ4A1CodP) [1.2s] / annotations = OK [0.8s]\n",
            "[UPLOADED] /content/dsail-porini-detection-v2-2/train/images/IMPALA_2021-11-14-06-02-23_jpg.rf.642ae2733752cd0c34abf3743d01846b.jpg (jPtObyOdOicST1bueB5S) [1.1s] / annotations = OK [0.8s]\n",
            "[UPLOADED] /content/dsail-porini-detection-v2-2/train/images/IMPALA_2021-10-23-06-32-04_jpg.rf.d94b64dae8e9251f9309e3332f6c9c14.jpg (B4dkd624rKxRrBQE9IsI) [1.4s] / annotations = OK [0.9s]\n",
            "[UPLOADED] /content/dsail-porini-detection-v2-2/train/images/IMPALA_2021-11-14-06-07-01_jpg.rf.9716190a0e136e78f2cad4af688f447e.jpg (OIV1FmvEcD1pBzyXG8FR) [1.1s] / annotations = OK [0.9s]\n",
            "[UPLOADED] /content/dsail-porini-detection-v2-2/train/images/IMPALA_2021-11-16-06-13-06_jpg.rf.892752818e77fed894539b4faf0ed15e.jpg (P7wV0O3PVYtE2yZJ8c7F) [0.8s] / annotations = OK [1.0s]\n",
            "[UPLOADED] /content/dsail-porini-detection-v2-2/train/images/IMPALA_2021-11-14-06-02-33_jpg.rf.d1347918fe1ef1fbbdc4bf132022cd77.jpg (B78QXWSWD7Dd0yRZ7pNK) [1.2s] / annotations = OK [1.0s]\n",
            "[UPLOADED] /content/dsail-porini-detection-v2-2/train/images/IMPALA_2021-11-23-07-51-49_jpg.rf.b55c94344430e01b98ef7ac6476e08b7.jpg (tDrxjwpYpQPLDOcbHe4I) [1.0s] / annotations = OK [0.8s]\n",
            "[UPLOADED] /content/dsail-porini-detection-v2-2/train/images/IMPALA_2021-11-24-16-56-33_jpg.rf.f26603e872df9dc53ba1ec78c34cc0db.jpg (AGUt3NaUf5H3D3RdqYY7) [1.0s] / annotations = OK [0.8s]\n",
            "[UPLOADED] /content/dsail-porini-detection-v2-2/train/images/IMPALA_2021-11-26-06-38-25_jpg.rf.e689fdcd8348c9d295eadf1b7e2658cd.jpg (TsRcMkdOz86cYsDylevr) [0.9s] / annotations = OK [0.8s]\n",
            "[UPLOADED] /content/dsail-porini-detection-v2-2/train/images/IMPALA_2021-11-26-06-37-38_jpg.rf.49969101ab767ca6ef28e9b9d4acff68.jpg (3AVhGDo7R19VhdTRrMEg) [1.3s] / annotations = OK [0.7s]\n",
            "[UPLOADED] /content/dsail-porini-detection-v2-2/train/images/MONKEY_2021-08-08-10-24-03_jpg.rf.9c61775724a142ab991f6cb235bfbf34.jpg (phtWUe1htVIOS15wSIrL) [1.2s] / annotations = OK [0.6s]\n",
            "[UPLOADED] /content/dsail-porini-detection-v2-2/train/images/MONKEY_2021-08-08-10-25-04_jpg.rf.458fd6d842f70a289db4c4df158dbebe.jpg (BHVWf0rqZxRgftXj0u4i) [1.2s] / annotations = OK [0.7s]\n",
            "[UPLOADED] /content/dsail-porini-detection-v2-2/train/images/MONKEY_2021-08-08-10-28-11_jpg.rf.792768c3e767edb0bfb4d77d85de42c1.jpg (kgBmGf0cxupUbE30EBgb) [1.1s] / annotations = OK [0.7s]\n",
            "[UPLOADED] /content/dsail-porini-detection-v2-2/train/images/MONKEY_2021-08-08-10-26-24_jpg.rf.787a95e589163c3ecf83e3310c15907b.jpg (PWNTG2sT8ha8OhnK5daB) [1.5s] / annotations = OK [0.7s]\n",
            "[UPLOADED] /content/dsail-porini-detection-v2-2/train/images/MONKEY_2021-08-08-10-30-37_jpg.rf.918284ce4cb3e7313cdaf38f74c125ef.jpg (V8n62rAZkWwluHvtF7Rv) [1.2s] / annotations = OK [0.7s]\n",
            "[UPLOADED] /content/dsail-porini-detection-v2-2/train/images/MONKEY_2021-08-08-10-28-14_jpg.rf.fb03dbc5e9b676a7cb2a52d75d6ab617.jpg (HAqRdUs7zNmE43P2QW6J) [1.4s] / annotations = OK [0.7s]\n",
            "[UPLOADED] /content/dsail-porini-detection-v2-2/train/images/MONKEY_2021-08-08-10-26-27_jpg.rf.42aa37f8562b70a1b174e8770020ebc6.jpg (lFOQVAFOJrZB0YigpVCR) [1.5s] / annotations = OK [0.7s]\n",
            "[UPLOADED] /content/dsail-porini-detection-v2-2/train/images/MONKEY_2021-08-08-10-31-26_jpg.rf.7e247da9bd4d5e452c17fc87a646d571.jpg (UXba5IMgF2FO1WUpVwSn) [1.3s] / annotations = OK [0.7s]\n",
            "[DUPLICATE] /content/dsail-porini-detection-v2-2/train/images/MONKEY_2021-08-14-12-53-58_jpg.rf.c8eeebd847a076fc354eca6cc3df49d6.jpg (V6U8Yx7Rh0ekqLeYTAlI) [0.8s] / annotations = ERR: save annotation for V6U8Yx7Rh0ekqLeYTAlI / bad response: 400: {'message': 'Image was already annotated.', 'type': 'InvalidImageException', 'hint': 'This image was already annotated; to overwrite the annotation, pass overwrite=true as a query parameter.'} [0.3s]\n",
            "[UPLOADED] /content/dsail-porini-detection-v2-2/train/images/MONKEY_2021-08-08-10-31-29_jpg.rf.92460fbb9eb2f7e8df0a2d9ea7fb59df.jpg (OvMkXydsYk4bT6rhLDNv) [1.1s] / annotations = OK [0.9s]\n",
            "[DUPLICATE] /content/dsail-porini-detection-v2-2/train/images/MONKEY_2021-08-14-12-54-01_jpg.rf.3c2ef95b08850cd211ae55518e4e6a1a.jpg (ZpmcLqrMCjN0fxj3dZPu) [0.8s] / annotations = ERR: save annotation for ZpmcLqrMCjN0fxj3dZPu / bad response: 400: {'message': 'Image was already annotated.', 'type': 'InvalidImageException', 'hint': 'This image was already annotated; to overwrite the annotation, pass overwrite=true as a query parameter.'} [0.3s]\n",
            "[UPLOADED] /content/dsail-porini-detection-v2-2/train/images/MONKEY_2021-08-08-10-36-02_jpg.rf.477e48acfcbe8ff080c9d1c1b06312da.jpg (TytoikVs2aLcLCEW5AGO) [1.1s] / annotations = OK [0.6s]\n",
            "[UPLOADED] /content/dsail-porini-detection-v2-2/train/images/MONKEY_2021-08-08-10-35-59_jpg.rf.2a36d9fefec554c977c0876e58cbd5be.jpg (TC3v4NCx9goE61sDw9sX) [1.2s] / annotations = OK [0.8s]\n",
            "[UPLOADED] /content/dsail-porini-detection-v2-2/train/images/MONKEY_2021-08-14-12-53-45_jpg.rf.e4ef50d52470a06c2e9a3f547d2e1023.jpg (3VlEq7BE76jx4loFL2Xi) [0.9s] / annotations = OK [0.7s]\n",
            "[UPLOADED] /content/dsail-porini-detection-v2-2/train/images/MONKEY_2021-08-08-10-39-19_jpg.rf.a683ae1b0f6088fdf4e7ee214ceee3bd.jpg (ft2uFIYJKcxfI69xXTbZ) [1.2s] / annotations = OK [0.8s]\n",
            "[UPLOADED] /content/dsail-porini-detection-v2-2/train/images/MONKEY_2021-08-21-08-38-46_jpg.rf.71f5b8516685dcbd825f5576c7d854fc.jpg (p6F6gbLJU3On6z0MUud4) [1.3s] / annotations = OK [0.6s]\n",
            "[UPLOADED] /content/dsail-porini-detection-v2-2/train/images/MONKEY_2021-09-21-12-19-48_jpg.rf.a4f7187cec6cae81a09a66d6296cafbb.jpg (dlcExUI8ksLG1Yxq9FSO) [1.2s] / annotations = OK [0.6s]\n",
            "[UPLOADED] /content/dsail-porini-detection-v2-2/train/images/MONKEY_2021-09-22-15-10-15_jpg.rf.540db6bc1a163fd1e08334c2cae8767d.jpg (Vsld4ztWBIaSDrmWYC7N) [1.3s] / annotations = OK [0.7s]\n",
            "[UPLOADED] /content/dsail-porini-detection-v2-2/train/images/MONKEY_2021-09-22-15-17-17_jpg.rf.c224251980974e503088dd966c28b6a0.jpg (5NAFBQHsLR8fz944xr4J) [1.2s] / annotations = OK [0.8s]\n",
            "[UPLOADED] /content/dsail-porini-detection-v2-2/train/images/MONKEY_2021-09-22-14-50-34_jpg.rf.163746e5bbbe28d2ba4d4cba5973b827.jpg (C8hr23PUV10L4nzQ33is) [1.4s] / annotations = OK [1.0s]\n",
            "[UPLOADED] /content/dsail-porini-detection-v2-2/train/images/MONKEY_2021-09-29-13-36-35_jpg.rf.f834431ed3067e1c4ab8dd35a537f185.jpg (HlRMvwSsBnCtkwFEoLTR) [1.3s] / annotations = OK [0.9s]\n",
            "[UPLOADED] /content/dsail-porini-detection-v2-2/train/images/MONKEY_2021-09-29-13-37-34_jpg.rf.cef7bf84bc02fc1b63a75fc711db1048.jpg (MYX5S7aZTWQ88PkqPbb6) [1.2s] / annotations = OK [0.8s]\n",
            "[UPLOADED] /content/dsail-porini-detection-v2-2/train/images/MONKEY_2021-09-22-14-58-17_jpg.rf.d4c56cfa92703b5b916ecebe132023d1.jpg (Dmm77XEwniaerz3ALnfI) [1.6s] / annotations = OK [0.9s]\n",
            "[UPLOADED] /content/dsail-porini-detection-v2-2/train/images/MONKEY_2021-09-29-13-44-42_jpg.rf.d7c271b4dfaf5df4d7f4101e4f142b98.jpg (zAJUOR9Ee2tTJ2RxMu6c) [1.2s] / annotations = OK [0.7s]\n",
            "[UPLOADED] /content/dsail-porini-detection-v2-2/train/images/WARTHOG_2021-07-01-16-52-05_jpg.rf.8a7de12b15649a606953708f690c2515.jpg (b2Kgpy6mhm82MgZ583ZF) [0.8s] / annotations = OK [0.7s]\n",
            "[UPLOADED] /content/dsail-porini-detection-v2-2/train/images/WARTHOG_2021-07-01-11-23-54_jpg.rf.72ff0ef2a24212b8a65e53f0d9194f28.jpg (GG5QlltKYERP4TI6rEtr) [1.0s] / annotations = OK [0.8s]\n",
            "[UPLOADED] /content/dsail-porini-detection-v2-2/train/images/WARTHOG_2021-07-01-16-52-09_jpg.rf.ef34fc794b803e9214a5a4262569f6de.jpg (otIC2ktMSNdSWd5N47kn) [1.0s] / annotations = OK [0.8s]\n",
            "[UPLOADED] /content/dsail-porini-detection-v2-2/train/images/WARTHOG_2021-07-31-08-19-20_jpg.rf.71ba5db4a0e2eb61c1c15a9ee61a435b.jpg (yrJNdWI6kFEyQC6x3GvB) [1.1s] / annotations = OK [0.7s]\n",
            "[UPLOADED] /content/dsail-porini-detection-v2-2/train/images/WARTHOG_2021-07-31-08-19-27_jpg.rf.ac7e2127e54f68e26198a20c3187f0a7.jpg (ni80dNz7NFUmr6lyNopo) [1.1s] / annotations = OK [0.8s]\n",
            "[UPLOADED] /content/dsail-porini-detection-v2-2/train/images/WARTHOG_2021-07-31-08-20-22_jpg.rf.b12ba8f60f1e8ccd4f58ec063d0480cd.jpg (zR9f9JDZMPQ0ctMRLViP) [1.1s] / annotations = OK [0.8s]\n",
            "[UPLOADED] /content/dsail-porini-detection-v2-2/train/images/WARTHOG_2021-07-31-08-20-29_jpg.rf.2a0676bb3efd3b5cf07163edc7943701.jpg (Jy93QEmcJFpqco6eOkze) [1.2s] / annotations = OK [0.8s]\n",
            "[UPLOADED] /content/dsail-porini-detection-v2-2/train/images/WARTHOG_2021-09-21-12-22-32_jpg.rf.e0869032d8254b2549eda49f53cb4709.jpg (LH2rTroIGcbXUFxrdGzA) [1.4s] / annotations = OK [0.7s]\n",
            "[UPLOADED] /content/dsail-porini-detection-v2-2/train/images/WARTHOG_2021-09-21-12-22-36_jpg.rf.b3db00ab2e34c65a9c408e911f005be1.jpg (CU9PpMB4PrSaBNLRayEm) [1.4s] / annotations = OK [0.6s]\n",
            "[UPLOADED] /content/dsail-porini-detection-v2-2/train/images/WARTHOG_2021-09-18-13-22-13_jpg.rf.97d1d8d3b0cdb463d87b5999f7e47b66.jpg (RxUjKBatgOdkT83a5EpW) [1.7s] / annotations = OK [0.6s]\n",
            "[UPLOADED] /content/dsail-porini-detection-v2-2/train/images/WARTHOG_2021-09-25-10-45-11_jpg.rf.a7ef6f14e30ae83a42be6a9b5ae8654b.jpg (2NlBneFZ7h89nhEEUlTL) [1.5s] / annotations = OK [0.6s]\n",
            "[UPLOADED] /content/dsail-porini-detection-v2-2/train/images/WARTHOG_2021-09-25-10-45-18_jpg.rf.fb73eec67b27f844f65d533133d06fba.jpg (8lPeT7Z7bh452VA7YE7R) [1.1s] / annotations = OK [0.7s]\n",
            "[UPLOADED] /content/dsail-porini-detection-v2-2/train/images/WARTHOG_2021-09-25-10-45-47_jpg.rf.512c494b1fdd683d687d5ff1b2d5a532.jpg (vkHZhjA4bFTiCYoUs1CM) [1.6s] / annotations = OK [0.7s]\n",
            "[UPLOADED] /content/dsail-porini-detection-v2-2/train/images/WARTHOG_2021-10-14-10-23-51_jpg.rf.732b1952d41fb4ba7ee8cd3fc841b6fd.jpg (q37OGi7AkFtnl5GJLtYL) [1.5s] / annotations = OK [0.7s]\n",
            "[UPLOADED] /content/dsail-porini-detection-v2-2/train/images/WARTHOG_2021-10-14-10-23-55_jpg.rf.fb812166b6df3340e5f9aa6b0195a30a.jpg (qLzzLpZImuhEw3Aq5nYL) [1.3s] / annotations = OK [0.7s]\n",
            "[UPLOADED] /content/dsail-porini-detection-v2-2/train/images/WARTHOG_2021-10-14-10-23-56_jpg.rf.b13bf53212b19080d04fb52303a295ca.jpg (rdo4lntH0G7ft4LMXKVN) [1.2s] / annotations = OK [0.8s]\n",
            "[UPLOADED] /content/dsail-porini-detection-v2-2/train/images/WARTHOG_2021-10-14-10-23-53_jpg.rf.8f9362a248666e5fae9b5e622f7e9ddf.jpg (6cphIaHcDYbdEB2wCM2R) [1.4s] / annotations = OK [0.9s]\n",
            "[UPLOADED] /content/dsail-porini-detection-v2-2/train/images/WARTHOG_2021-10-14-10-23-58_jpg.rf.3f67e0e492115a5a5ae1f2c4da91aa9f.jpg (PuRwKc9Z5Uf70EdL7oaZ) [1.4s] / annotations = OK [0.7s]\n",
            "[UPLOADED] /content/dsail-porini-detection-v2-2/train/images/WARTHOG_2021-10-14-10-23-46_jpg.rf.8b1503d9efb9d3721e5ffa3a796ce58d.jpg (xPVmc7FpjGITbO3sJjiH) [1.5s] / annotations = OK [1.0s]\n",
            "[UPLOADED] /content/dsail-porini-detection-v2-2/train/images/WARTHOG_2021-10-14-10-24-19_jpg.rf.f86b467c95712f117dcc1c5a15b8610f.jpg (kFAbHJuOFSRsgdvWDnlO) [1.1s] / annotations = OK [0.7s]\n",
            "[UPLOADED] /content/dsail-porini-detection-v2-2/train/images/WARTHOG_2021-10-14-10-24-22_jpg.rf.834aeec019bebb92c0c7a8367a5269e0.jpg (y5JDAH6psQpre7bb8lrx) [0.9s] / annotations = OK [0.6s]\n",
            "[UPLOADED] /content/dsail-porini-detection-v2-2/train/images/WARTHOG_2021-10-14-10-24-26_jpg.rf.7157daaaa96ce812ed11b5274529c4e7.jpg (lisd5FWUbkx2J6rvo7On) [0.8s] / annotations = OK [0.7s]\n",
            "[UPLOADED] /content/dsail-porini-detection-v2-2/train/images/WARTHOG_2021-10-14-10-24-44_jpg.rf.33ff64f4cb3dfae8b71322fb48468a01.jpg (hmcR5MQN6JJUri80sDbR) [1.0s] / annotations = OK [0.7s]\n",
            "[UPLOADED] /content/dsail-porini-detection-v2-2/train/images/WARTHOG_2021-10-14-10-24-23_jpg.rf.a290233b0faed6de5997a45fa14a4a48.jpg (I0tItYGblbh8RzshgtKG) [1.4s] / annotations = OK [0.6s]\n",
            "[UPLOADED] /content/dsail-porini-detection-v2-2/train/images/WARTHOG_2021-10-14-10-24-28_jpg.rf.fb12b2e7b8e92d3cb01330a2d8e021c2.jpg (440LDxZlNidBlG5ntqR2) [1.3s] / annotations = OK [0.6s]\n",
            "[UPLOADED] /content/dsail-porini-detection-v2-2/train/images/WARTHOG_2021-10-14-10-32-46_jpg.rf.8e8c80ba4838d69ce16248b5d44f131b.jpg (JJ0XM0HuUUa4H9MaTIGE) [1.3s] / annotations = OK [0.7s]\n",
            "[UPLOADED] /content/dsail-porini-detection-v2-2/train/images/WARTHOG_2021-10-14-10-32-48_jpg.rf.19259f8c06a5988fab9b37f6abe2b1f0.jpg (YJrw64yTr7WS7T6mXjNg) [1.4s] / annotations = OK [0.7s]\n",
            "[UPLOADED] /content/dsail-porini-detection-v2-2/train/images/WARTHOG_2021-10-14-10-32-49_jpg.rf.69117e98ebfc3e5fb2f13f6e2614f006.jpg (aoh905aAsHma2EY2Xd79) [1.2s] / annotations = OK [0.6s]\n",
            "[UPLOADED] /content/dsail-porini-detection-v2-2/train/images/WARTHOG_2021-10-14-10-34-23_jpg.rf.a178d0e458465bf08ab476b91da681ae.jpg (8YHIkv1E5vpzLh9l4Hqv) [1.1s] / annotations = OK [0.7s]\n",
            "[UPLOADED] /content/dsail-porini-detection-v2-2/train/images/WARTHOG_2021-12-16-17-57-53_jpg.rf.f2c97bdac6204eb07a665c6658474d4c.jpg (EH32sAJYbDJ7lvc4M96Y) [0.9s] / annotations = OK [0.6s]\n",
            "[UPLOADED] /content/dsail-porini-detection-v2-2/train/images/WARTHOG_2021-12-16-17-57-46_jpg.rf.a648299fdcef7b312d029321fa7a0274.jpg (f6hxfnCveOO0eCcMfRjw) [1.1s] / annotations = OK [0.6s]\n",
            "[UPLOADED] /content/dsail-porini-detection-v2-2/train/images/WARTHOG_snapshot_201910831457254_jpg.rf.e94f61d9796a08b0f5e6d7dce6315617.jpg (q1aDzUP5tlJTF8T4cw88) [1.0s] / annotations = OK [0.7s]\n",
            "[UPLOADED] /content/dsail-porini-detection-v2-2/train/images/WARTHOG_2021-12-08-17-35-43_jpg.rf.150420222c5cf178503f3d24ffdbf03a.jpg (hyUahsWvdueOl4Y9JVNG) [1.6s] / annotations = OK [0.7s]\n",
            "[UPLOADED] /content/dsail-porini-detection-v2-2/train/images/WARTHOG_snapshot_201910832818469_jpg.rf.dc5025f2d4b819f52d441b4207483e3d.jpg (FUD7TIQYvRVahz3aM5SC) [1.0s] / annotations = OK [0.6s]\n",
            "[UPLOADED] /content/dsail-porini-detection-v2-2/train/images/WARTHOG_snapshot_20191083281850115_jpg.rf.9d6dfc40b8f95b87361c2c9bd0e31d3f.jpg (hW7j9JQ9nxaTlbCTMUGn) [0.9s] / annotations = OK [0.8s]\n",
            "[UPLOADED] /content/dsail-porini-detection-v2-2/train/images/WARTHOG_snapshot_2019109434133129_jpg.rf.35f06a90aa2d10b7118e836eb23cad5a.jpg (W9zhRw7G5viJ216cBRhF) [1.0s] / annotations = OK [0.6s]\n",
            "[UPLOADED] /content/dsail-porini-detection-v2-2/train/images/WARTHOG_snapshot_2019109434137205_jpg.rf.93c94a090e4de65c8f766cb0310fa536.jpg (nd25fvLTQ6zOk0vF9mjl) [0.9s] / annotations = OK [0.7s]\n",
            "[UPLOADED] /content/dsail-porini-detection-v2-2/train/images/WARTHOG_snapshot_2019109434138146_jpg.rf.9653abb9c10896ce6cb55d2de53587a6.jpg (jTj5vW7PNLxym13TXldq) [0.9s] / annotations = OK [0.7s]\n",
            "[UPLOADED] /content/dsail-porini-detection-v2-2/train/images/WARTHOG_snapshot_201910943413988_jpg.rf.2b03e9750694d730aa6752d39cb3605c.jpg (YOqdHfGyOa0thcX5HMsi) [0.9s] / annotations = OK [0.6s]\n",
            "[UPLOADED] /content/dsail-porini-detection-v2-2/train/images/WARTHOG_snapshot_201910943414029_jpg.rf.b556805f95ef570a17ec8f264d52a9fb.jpg (YTqWUMDi4oLBDrnCSqZ8) [0.9s] / annotations = OK [0.7s]\n",
            "[UPLOADED] /content/dsail-porini-detection-v2-2/train/images/WARTHOG_snapshot_2019109434146191_jpg.rf.7f770f65b521f289eb9e5f427d01d69c.jpg (ocSJZNv7bwA0nIAtNPB7) [0.9s] / annotations = OK [0.7s]\n",
            "[UPLOADED] /content/dsail-porini-detection-v2-2/train/images/WARTHOG_snapshot_2019109434142227_jpg.rf.8bdc700f7a0e72d2bcb184f9f71bbde1.jpg (anIqzBrd7XWgyTcIWwel) [1.1s] / annotations = OK [0.7s]\n",
            "[UPLOADED] /content/dsail-porini-detection-v2-2/train/images/WATERBUCK_2021-07-01-06-59-56_jpg.rf.1e8a202e2c95fcf13112e3e55e9c33c8.jpg (RXX56HgNviqsjCoBwby9) [1.0s] / annotations = OK [0.6s]\n",
            "[UPLOADED] /content/dsail-porini-detection-v2-2/train/images/WATERBUCK_2021-07-01-06-59-59_jpg.rf.8d199eeca1b4b2b980c7cf23526453f1.jpg (jR5CdXz4957tcyUbgZWC) [0.9s] / annotations = OK [0.6s]\n",
            "[UPLOADED] /content/dsail-porini-detection-v2-2/train/images/WATERBUCK_2021-09-05-17-50-56_jpg.rf.53c1213dc0672edf05aee6fc90b05887.jpg (o3eV5ytdWOnMlLgToycT) [1.2s] / annotations = OK [0.7s]\n",
            "[UPLOADED] /content/dsail-porini-detection-v2-2/train/images/WATERBUCK_2021-10-02-18-35-45_jpg.rf.e86be10fa7c35d9da846b8252d3c98cb.jpg (76pLAB7INDc5gbMOBvLV) [0.9s] / annotations = OK [0.7s]\n",
            "[UPLOADED] /content/dsail-porini-detection-v2-2/train/images/WATERBUCK_2021-09-14-17-58-12_jpg.rf.1a71e8ea8b9d4cd8fbeb68cc7ad201a7.jpg (KQv4qQ8Xy7mIC3ThMbEv) [1.2s] / annotations = OK [0.6s]\n",
            "[UPLOADED] /content/dsail-porini-detection-v2-2/train/images/WATERBUCK_2021-10-23-08-38-09_jpg.rf.b9e998decf4584146bae5641e6456a45.jpg (TcWZOVVPfO5AyJ5P3qJM) [1.0s] / annotations = OK [0.7s]\n",
            "[UPLOADED] /content/dsail-porini-detection-v2-2/train/images/WATERBUCK_2021-10-23-08-38-13_jpg.rf.7233cb8981bdd914bec96817dad354b7.jpg (y7S0GyiN5nUT9OBhKb38) [1.0s] / annotations = OK [0.6s]\n",
            "[UPLOADED] /content/dsail-porini-detection-v2-2/train/images/WATERBUCK_2021-10-23-08-38-10_jpg.rf.2e72ee3a7043eafea695c6aacc4a7ff9.jpg (R9qK1UpbF4AvR9nooXiB) [1.0s] / annotations = OK [0.8s]\n",
            "[UPLOADED] /content/dsail-porini-detection-v2-2/train/images/WATERBUCK_2021-10-23-08-38-12_jpg.rf.c8ac53c24002182417fa3e4a8109c796.jpg (cHaealL9gXgiET66faSV) [1.2s] / annotations = OK [0.6s]\n",
            "[UPLOADED] /content/dsail-porini-detection-v2-2/train/images/WATERBUCK_2021-10-23-08-38-16_jpg.rf.4b38e56f7443eedf7d72b4acf383dfdd.jpg (7av8Qah3TnRVeEzvHu33) [1.1s] / annotations = OK [0.6s]\n",
            "[UPLOADED] /content/dsail-porini-detection-v2-2/train/images/WATERBUCK_2021-10-23-08-38-18_jpg.rf.b37b2cf3c6cd14a0630fdf2ae834b54f.jpg (mxuZQoHQMm79lV2iHLZX) [0.9s] / annotations = OK [0.8s]\n",
            "[UPLOADED] /content/dsail-porini-detection-v2-2/train/images/WATERBUCK_2021-10-23-08-38-19_jpg.rf.6392169c6145878cbdd82fde7a5ab5f0.jpg (MiXHv9q7oc5gVOhw2os5) [1.1s] / annotations = OK [0.7s]\n",
            "[UPLOADED] /content/dsail-porini-detection-v2-2/train/images/WATERBUCK_2021-10-23-08-38-21_jpg.rf.245ce5e92d701036cbee79f760000960.jpg (6WLC08o9S3N7Hs6AqfQ7) [1.0s] / annotations = OK [0.7s]\n",
            "[UPLOADED] /content/dsail-porini-detection-v2-2/train/images/WATERBUCK_2021-11-16-06-11-49_jpg.rf.1c9b0d0f42bcf39375c22c6f9ca5aecd.jpg (ICYAZeMqGazf3ToMkirM) [0.7s] / annotations = OK [0.8s]\n",
            "[UPLOADED] /content/dsail-porini-detection-v2-2/train/images/WATERBUCK_2021-11-16-06-11-54_jpg.rf.e64f4a7881e3953e624b554ea4bbf702.jpg (31EM8zrfjS8hT2lbQtRd) [0.9s] / annotations = OK [0.6s]\n",
            "[UPLOADED] /content/dsail-porini-detection-v2-2/train/images/WATERBUCK_2021-11-16-06-12-15_jpg.rf.05907ecfeb2a6a2245b6b092c433606b.jpg (sjFfSkBjajPAnkpP9nni) [1.1s] / annotations = OK [0.8s]\n",
            "[UPLOADED] /content/dsail-porini-detection-v2-2/train/images/WATERBUCK_2021-11-16-06-12-18_jpg.rf.8cf1adb76770e9297cafdda7b01dde29.jpg (xUg0DYstWRDuYiK9gekZ) [1.1s] / annotations = OK [0.8s]\n",
            "[UPLOADED] /content/dsail-porini-detection-v2-2/train/images/WATERBUCK_2021-11-16-06-12-20_jpg.rf.d00c14cee8434a752f552967c66ea02c.jpg (PDvqfsQfenBjDqiY2LWx) [1.6s] / annotations = OK [0.6s]\n",
            "[UPLOADED] /content/dsail-porini-detection-v2-2/train/images/WATERBUCK_2021-11-23-07-48-43_jpg.rf.23dabc837ec6e4d801931844ee960eea.jpg (F0M0XMxItAokDFQSrncR) [1.3s] / annotations = OK [0.6s]\n",
            "[UPLOADED] /content/dsail-porini-detection-v2-2/train/images/WATERBUCK_2021-12-16-17-46-28_jpg.rf.f9a8616268ec261b7ac259cfdde19a47.jpg (rQC9blElv9Oow00Lp1g9) [1.3s] / annotations = OK [0.6s]\n",
            "[UPLOADED] /content/dsail-porini-detection-v2-2/train/images/WATERBUCK_2021-12-16-17-45-42_jpg.rf.f80720b1ae5f9dbd44f7a72f30e167cd.jpg (aKuUH5k7VytuvmeRvoN5) [1.4s] / annotations = OK [0.6s]\n",
            "[UPLOADED] /content/dsail-porini-detection-v2-2/train/images/WATERBUCK_2021-12-16-17-46-35_jpg.rf.56de0cb334a30dda5cdfc14c8f3b9806.jpg (B6ROsV6PsoAn18IRpeWe) [1.0s] / annotations = OK [0.6s]\n",
            "[UPLOADED] /content/dsail-porini-detection-v2-2/train/images/WATERBUCK_2021-12-16-17-46-38_jpg.rf.7f66f999bc55413e8abc5bae7de00b8b.jpg (YiNYUKub1S19Nn13LiAh) [1.1s] / annotations = OK [0.8s]\n",
            "[UPLOADED] /content/dsail-porini-detection-v2-2/train/images/WATERBUCK_2021-11-23-07-48-46_jpg.rf.eb1ee364d70f3a2855c3a6ac01f51961.jpg (4NMWnlBzamNUIiSX1ny2) [2.0s] / annotations = OK [0.8s][UPLOADED] /content/dsail-porini-detection-v2-2/train/images/WATERBUCK_2021-12-16-17-46-33_jpg.rf.9b8120554a9ce0e7dcb672be7f2e76ef.jpg (JjyYtDos24SBD4Q5sray) [1.7s] / annotations = OK [0.6s]\n",
            "\n",
            "[UPLOADED] /content/dsail-porini-detection-v2-2/train/images/WATERBUCK_2021-12-16-17-46-52_jpg.rf.bc510eace2e70b997b50f3244fb43c83.jpg (MIppOCf4yyIIGWVZxY6k) [1.0s] / annotations = OK [0.6s]\n",
            "[UPLOADED] /content/dsail-porini-detection-v2-2/train/images/WATERBUCK_2021-12-16-17-46-55_jpg.rf.6514cb275288a46aac0c31c75b38df96.jpg (dIl0FBf54KliMtxHbidp) [1.0s] / annotations = OK [0.8s]\n",
            "[UPLOADED] /content/dsail-porini-detection-v2-2/train/images/WATERBUCK_2021-12-16-17-47-20_jpg.rf.0eb23aee3b0680f766c318b1e42ce4ce.jpg (ztCDh4zvTEFOSJDKEGft) [1.0s] / annotations = OK [0.8s]\n",
            "[UPLOADED] /content/dsail-porini-detection-v2-2/train/images/WATERBUCK_2021-12-16-17-47-35_jpg.rf.ddef08d36e020e083eae9373c50c6d73.jpg (1Wd6NsKmUdiJc6OuAt8u) [0.9s] / annotations = OK [0.9s]\n",
            "[UPLOADED] /content/dsail-porini-detection-v2-2/train/images/WATERBUCK_2021-12-16-18-21-13_jpg.rf.df327d383990479c0796b29332b431d7.jpg (XDkc53DTTYTkgegMs2Xt) [1.2s] / annotations = OK [0.6s]\n",
            "[UPLOADED] /content/dsail-porini-detection-v2-2/train/images/WATERBUCK_2021-12-16-18-21-29_jpg.rf.a19d95c2f36b3c54959d86c22449ee04.jpg (Qi9aQM8T1z2g4G5gUbF7) [1.1s] / annotations = OK [0.7s]\n",
            "[UPLOADED] /content/dsail-porini-detection-v2-2/train/images/WATERBUCK_2021-12-16-18-21-15_jpg.rf.2b5f2701c2710d0e6b516075747ac7f6.jpg (2EIRXcqxlxIDQnEN0PQX) [1.4s] / annotations = OK [0.6s]\n",
            "[UPLOADED] /content/dsail-porini-detection-v2-2/train/images/WATERBUCK_2021-12-16-18-21-34_jpg.rf.568514ede0fa96c84521a0c268b4c7aa.jpg (7nE7tHUVw92OpNOlgQKt) [1.4s] / annotations = OK [0.6s]\n",
            "[UPLOADED] /content/dsail-porini-detection-v2-2/train/images/WATERBUCK_2021-12-16-18-22-43_jpg.rf.e0a1e80921f26a6b62f37fdc001d9db3.jpg (bqEp9IDyD5QTnkMAzHsl) [1.3s] / annotations = OK [0.7s]\n",
            "[UPLOADED] /content/dsail-porini-detection-v2-2/train/images/WATERBUCK_2021-12-16-18-23-06_jpg.rf.ede85894735d111a4a1f0ea2801d59ad.jpg (NFJzzOTa2olxf6I6fdU6) [1.2s] / annotations = OK [0.7s]\n",
            "[UPLOADED] /content/dsail-porini-detection-v2-2/train/images/WATERBUCK_2021-12-16-18-23-08_jpg.rf.dacd53dbb7a9e8f3701af04ed9797620.jpg (58OjFBxU5vKsug5NLWkS) [1.1s] / annotations = OK [0.6s]\n",
            "[DUPLICATE] /content/dsail-porini-detection-v2-2/train/images/WATERBUCK_2021-12-23-17-56-53_jpg.rf.63091bd55a08986af6cd722ab43bf241.jpg (YsOype7vpuQEeaMCwe9J) [0.8s] / annotations = ERR: save annotation for YsOype7vpuQEeaMCwe9J / bad response: 400: {'message': 'Image was already annotated.', 'type': 'InvalidImageException', 'hint': 'This image was already annotated; to overwrite the annotation, pass overwrite=true as a query parameter.'} [0.3s]\n",
            "[DUPLICATE] /content/dsail-porini-detection-v2-2/train/images/WATERBUCK_2021-12-23-17-56-58_jpg.rf.f5da1df615ee8bbe21370a928cdcd747.jpg (1Oy2xG19AQY79U9niG3H) [0.7s] / annotations = ERR: save annotation for 1Oy2xG19AQY79U9niG3H / bad response: 400: {'message': 'Image was already annotated.', 'type': 'InvalidImageException', 'hint': 'This image was already annotated; to overwrite the annotation, pass overwrite=true as a query parameter.'} [0.4s]\n",
            "[UPLOADED] /content/dsail-porini-detection-v2-2/train/images/WATERBUCK_2021-12-16-18-23-27_jpg.rf.531fd9ad11dbf66dcb7f6e499eef70e0.jpg (xjgN5SuxjXbXWRdjRKXa) [1.3s] / annotations = OK [0.6s]\n",
            "[UPLOADED] /content/dsail-porini-detection-v2-2/train/images/WATERBUCK_2021-12-16-18-23-30_jpg.rf.acc1213453a4a5b0d75e552b55508135.jpg (LdCNDjiLYT2HyyGGfsQx) [1.2s] / annotations = OK [0.6s]\n",
            "[UPLOADED] /content/dsail-porini-detection-v2-2/train/images/WATERBUCK_2021-12-23-18-22-22_jpg.rf.b46b8fa4a3840e962ec7141e66eb7446.jpg (oXe0yzxen6nV4KasmZc0) [1.2s] / annotations = OK [0.7s]\n",
            "[UPLOADED] /content/dsail-porini-detection-v2-2/train/images/WATERBUCK_2021-12-23-18-22-49_jpg.rf.35381fdb1a0db78e3f6c8e21111bc22b.jpg (KrQnvTIefIjB8Jor6BQj) [1.3s] / annotations = OK [0.7s]\n",
            "[UPLOADED] /content/dsail-porini-detection-v2-2/train/images/WATERBUCK_2021-12-23-18-23-03_jpg.rf.44fb96b4a5f4e427e9eb4ed0b2468027.jpg (G1CO2BYIHf6fLw3bX9RO) [1.3s] / annotations = OK [0.7s]\n",
            "[UPLOADED] /content/dsail-porini-detection-v2-2/train/images/WATERBUCK_2021-12-23-18-23-13_jpg.rf.341fcb855c81977b647fbcb04f580c2f.jpg (FpRmHX9bgAt2ooWduv2i) [1.0s] / annotations = OK [0.7s]\n",
            "[UPLOADED] /content/dsail-porini-detection-v2-2/train/images/WATERBUCK_2021-12-23-18-23-32_jpg.rf.4ffb49c913fc6803c4139712ce65d219.jpg (3UDUhL0oShETATIVYAUL) [1.2s] / annotations = OK [0.7s]\n",
            "[UPLOADED] /content/dsail-porini-detection-v2-2/train/images/WATERBUCK_2021-12-23-18-27-48_jpg.rf.6f9eca5bb685119e393c9e763213922f.jpg (gLzUjFudsU3hV3WMgyxK) [1.0s] / annotations = OK [0.7s]\n",
            "[UPLOADED] /content/dsail-porini-detection-v2-2/train/images/WATERBUCK_2021-12-23-18-23-40_jpg.rf.ba4096118c230cc8b3dee67b20db84b2.jpg (I9HUHQTIT91BF2o9QvxB) [1.3s] / annotations = OK [0.7s]\n",
            "[UPLOADED] /content/dsail-porini-detection-v2-2/train/images/WATERBUCK_2021-12-23-18-27-53_jpg.rf.d709777e8d2087b8c290359138be5c32.jpg (EsImQVUM20xUhkaX4yUR) [1.1s] / annotations = OK [0.7s]\n",
            "[UPLOADED] /content/dsail-porini-detection-v2-2/train/images/WATERBUCK_2021-12-23-18-29-12_jpg.rf.067d28969aee212fdb63dd88fe6ca957.jpg (DZRQaefyaNdyruvM2bvZ) [0.9s] / annotations = OK [0.6s]\n",
            "[UPLOADED] /content/dsail-porini-detection-v2-2/train/images/WATERBUCK_2021-12-25-15-31-03_jpg.rf.a8e2d7495bd121f002e6a31a7f89347f.jpg (5KpRZs3QoLxW7nrZEwy8) [0.8s] / annotations = OK [0.7s]\n",
            "[UPLOADED] /content/dsail-porini-detection-v2-2/train/images/WATERBUCK_2021-12-25-16-25-21_jpg.rf.5ed47dcae8cbe8c3bc49feb0b3abcf75.jpg (StzU6xlkvnhTrEiOhuLB) [0.9s] / annotations = OK [0.6s]\n",
            "[UPLOADED] /content/dsail-porini-detection-v2-2/train/images/WATERBUCK_2021-12-25-16-25-23_jpg.rf.b336cd33e1a21b07934bbd25ee7e32da.jpg (gNQzZPYMwS4LfIcipnbQ) [0.9s] / annotations = OK [0.7s]\n",
            "[UPLOADED] /content/dsail-porini-detection-v2-2/train/images/WATERBUCK_2021-12-25-16-25-26_jpg.rf.28f57bc352907177032db0f8827c90ce.jpg (PBIfBRfgplfbQkFb8yMK) [0.8s] / annotations = OK [0.7s]\n",
            "[UPLOADED] /content/dsail-porini-detection-v2-2/train/images/WATERBUCK_2021-12-25-16-31-29_jpg.rf.878ba10a7d0f38df3407be3de44d0892.jpg (j7aQ4tSjOsnrC4qks1bt) [0.8s] / annotations = OK [0.7s]\n",
            "[UPLOADED] /content/dsail-porini-detection-v2-2/train/images/WATERBUCK_2021-12-25-16-31-36_jpg.rf.868d21763c4620595c60ef3fbe68b48d.jpg (3L5aNljgpVdoAWH9Xs00) [0.8s] / annotations = OK [0.7s]\n",
            "[UPLOADED] /content/dsail-porini-detection-v2-2/train/images/WATERBUCK_2021-12-25-16-42-43_jpg.rf.6a581f0dc632f7e1588eda21b5e804ac.jpg (75ljlbLvdzOdeCv7G8ds) [0.9s] / annotations = OK [0.7s]\n",
            "[UPLOADED] /content/dsail-porini-detection-v2-2/train/images/WATERBUCK_2021-12-25-16-43-41_jpg.rf.5ba3f4d5ddd76b00efb2a3cfa5e595d8.jpg (j2wa2fYi2ZieYWrd3qOH) [0.9s] / annotations = OK [0.7s]\n",
            "[UPLOADED] /content/dsail-porini-detection-v2-2/train/images/WATERBUCK_2021-12-25-16-43-46_jpg.rf.693cdb210837dcafb68a8449382fb916.jpg (TNow4y3gazPJVuSH4ozJ) [0.8s] / annotations = OK [0.7s]\n",
            "[UPLOADED] /content/dsail-porini-detection-v2-2/train/images/WATERBUCK_2021-12-25-16-43-48_jpg.rf.c672263cc556ac368f02766b8e78f98e.jpg (mfY677zfXVii4Dqv34jS) [0.8s] / annotations = OK [0.7s]\n",
            "[UPLOADED] /content/dsail-porini-detection-v2-2/train/images/WATERBUCK_2021-12-25-16-43-51_jpg.rf.56244d3e143121bf089c850eb243dba4.jpg (hxdznvfGdovfo14Bwm2i) [0.8s] / annotations = OK [0.7s]\n",
            "[UPLOADED] /content/dsail-porini-detection-v2-2/train/images/WATERBUCK_2021-12-25-16-43-55_jpg.rf.25657429f54518b6d1443d3da26de2dd.jpg (9mG04RviOoYppt41icIB) [0.8s] / annotations = OK [0.7s]\n",
            "[UPLOADED] /content/dsail-porini-detection-v2-2/train/images/WATERBUCK_2021-12-25-16-44-12_jpg.rf.f2d21a50ca7cf98ccc082c60087e2814.jpg (0L9xunwP3mth2jKd8tZU) [0.9s] / annotations = OK [0.6s]\n",
            "[UPLOADED] /content/dsail-porini-detection-v2-2/train/images/WATERBUCK_2021-12-25-16-45-16_jpg.rf.44a54317409b575c92ca83e7501b4273.jpg (gAIZ0TNbqx45aRoI6Nsy) [0.9s] / annotations = OK [0.6s]\n",
            "[UPLOADED] /content/dsail-porini-detection-v2-2/train/images/WATERBUCK_2021-12-25-16-57-42_jpg.rf.08ee2f16d8ee9c3b4402fd199fbf0926.jpg (ns2BRwAtOH6cT3FfAhb9) [1.0s] / annotations = OK [0.6s]\n",
            "[UPLOADED] /content/dsail-porini-detection-v2-2/train/images/WATERBUCK_2021-12-25-16-57-47_jpg.rf.1d783b7036d79871424574f5fae547ff.jpg (unf0NEGwppOggrjtp2ps) [1.0s] / annotations = OK [0.7s]\n",
            "[UPLOADED] /content/dsail-porini-detection-v2-2/train/images/WATERBUCK_2021-12-25-16-57-52_jpg.rf.4432ba779425aae9c4dc6d93b2462293.jpg (SKvk26jL8mr9YiCTFizb) [0.9s] / annotations = OK [0.6s]\n",
            "[UPLOADED] /content/dsail-porini-detection-v2-2/train/images/WATERBUCK_2021-12-25-16-58-13_jpg.rf.9d4a67efb974598a36d3ab1162cf1ba2.jpg (gBaxIZoJBPvVLrBjW7ZP) [0.9s] / annotations = OK [0.7s]\n",
            "[UPLOADED] /content/dsail-porini-detection-v2-2/train/images/WATERBUCK_2021-12-25-16-58-28_jpg.rf.fe62c581a191f1827d5ddb5394cf25b0.jpg (0eUsHchx7pr8eQ7qVqxY) [0.9s] / annotations = OK [0.7s]\n",
            "[UPLOADED] /content/dsail-porini-detection-v2-2/train/images/WATERBUCK_2021-12-25-16-59-18_jpg.rf.d76e33845c07e819e858bef36a8c88f2.jpg (et4MjDGPZLuHqsfTkRCw) [0.9s] / annotations = OK [0.8s]\n",
            "[UPLOADED] /content/dsail-porini-detection-v2-2/train/images/WATERBUCK_2021-12-25-16-59-27_jpg.rf.5ddc016d81d0f3a29d5f986317d3355a.jpg (sXtjKKpioSdp0Jk3WkIn) [0.8s] / annotations = OK [0.8s]\n",
            "[UPLOADED] /content/dsail-porini-detection-v2-2/train/images/WATERBUCK_2021-12-25-16-59-25_jpg.rf.5f2f9065aad66d0eb473407e406d1617.jpg (4Z3ShJPjFFBzpQXxPxet) [1.0s] / annotations = OK [0.8s]\n",
            "[UPLOADED] /content/dsail-porini-detection-v2-2/train/images/WATERBUCK_2021-12-25-16-59-30_jpg.rf.ebc560cc1db27f38ad937ad15ceddc10.jpg (LF4SBsFru9m9sSSdng2a) [1.0s] / annotations = OK [1.0s]\n",
            "[UPLOADED] /content/dsail-porini-detection-v2-2/train/images/WATERBUCK_2021-12-25-16-59-37_jpg.rf.d35d2590fe9d1b6c4a3b0d995dc049fa.jpg (4JrKixLK4P9np6V2sclI) [1.7s] / annotations = OK [0.7s]\n",
            "[UPLOADED] /content/dsail-porini-detection-v2-2/train/images/WATERBUCK_2021-12-25-17-00-37_jpg.rf.f10ce03e33afd4021b1b3ad848abc3ef.jpg (PS83jtzcWcolCP74J4Xi) [1.3s] / annotations = OK [0.8s]\n",
            "[UPLOADED] /content/dsail-porini-detection-v2-2/train/images/WATERBUCK_2021-12-25-17-00-45_jpg.rf.d5bb053513518b81e77b4a88858a6823.jpg (jYdgXcF4izVXSrwLSUDb) [1.1s] / annotations = OK [0.8s]\n",
            "[UPLOADED] /content/dsail-porini-detection-v2-2/train/images/WATERBUCK_2021-12-25-17-00-24_jpg.rf.f20c2dbf0c7a1908ab372531aa5a9b93.jpg (B3qVd6w0JBVPWqcyYLdT) [1.7s] / annotations = OK [0.9s]\n",
            "[UPLOADED] /content/dsail-porini-detection-v2-2/train/images/WATERBUCK_2021-12-25-17-00-47_jpg.rf.dc1d8d238d95a4f3223e6f3319538232.jpg (8NvmzFfgh3zPkRcFMMB1) [1.1s] / annotations = OK [0.8s]\n",
            "[UPLOADED] /content/dsail-porini-detection-v2-2/train/images/WATERBUCK_2021-12-25-17-09-29_jpg.rf.158ef2992dabd67f61c9f2d87a048a23.jpg (H7UdsmSX2DXGc43z8KRp) [1.2s] / annotations = OK [0.7s]\n",
            "[UPLOADED] /content/dsail-porini-detection-v2-2/train/images/WATERBUCK_2021-12-25-17-09-32_jpg.rf.383c6ad5c0f803515541adaabebc11ab.jpg (XjzzjWVVCuzBLBzN1bLx) [1.2s] / annotations = OK [0.7s]\n",
            "[UPLOADED] /content/dsail-porini-detection-v2-2/train/images/WATERBUCK_2021-12-25-17-10-11_jpg.rf.6e3451ad5b3a38f43f217633c55063ee.jpg (cU289LCvrxC8aAYo1bXh) [1.1s] / annotations = OK [0.6s]\n",
            "[UPLOADED] /content/dsail-porini-detection-v2-2/train/images/WATERBUCK_2021-12-25-17-10-21_jpg.rf.f54ac46888daa238a67e06e12b29c8e4.jpg (MR6aCktQduBvABHU1RUV) [0.9s] / annotations = OK [0.6s]\n",
            "[UPLOADED] /content/dsail-porini-detection-v2-2/train/images/WATERBUCK_2021-12-25-17-10-24_jpg.rf.d1d35d158baec030a93423dc8f0896e8.jpg (2EFpqhqcOjsXoFPMzsB2) [0.9s] / annotations = OK [0.7s]\n",
            "[UPLOADED] /content/dsail-porini-detection-v2-2/train/images/WATERBUCK_2021-12-25-17-11-18_jpg.rf.0a1319d2165702523862e81b31bef1f7.jpg (tzwTnaRYp2gNzFGQYsoD) [1.0s] / annotations = OK [0.6s]\n",
            "[UPLOADED] /content/dsail-porini-detection-v2-2/train/images/WATERBUCK_2021-12-25-17-11-34_jpg.rf.068848561ffbf2e6370bcc61485521cd.jpg (AzOYPiAME4HtgWpNoEbB) [1.0s] / annotations = OK [0.6s]\n",
            "[UPLOADED] /content/dsail-porini-detection-v2-2/train/images/WATERBUCK_2021-12-25-17-11-31_jpg.rf.8a3cd4c902837f1b8f5b072ee0206371.jpg (QmDFntqrFfNvWIl8Lfb6) [0.9s] / annotations = OK [0.7s]\n",
            "[UPLOADED] /content/dsail-porini-detection-v2-2/train/images/WATERBUCK_2021-12-25-17-57-03_jpg.rf.c9b64dc1a47d6c5df69f20bc5e4bcea1.jpg (tAsgIaOHQ7hXBf25ufBD) [0.9s] / annotations = OK [0.6s]\n",
            "[UPLOADED] /content/dsail-porini-detection-v2-2/train/images/WATERBUCK_2021-12-25-17-11-45_jpg.rf.0bd65a026d415a597dd0d041c4d916ce.jpg (hU8iYLfjhAqubVtKEBfU) [1.2s] / annotations = OK [0.8s]\n",
            "[UPLOADED] /content/dsail-porini-detection-v2-2/train/images/WATERBUCK_2021-12-25-17-57-08_jpg.rf.c75df49f3589732823ad6ec495c83619.jpg (SpxERZAPur8VNGNmhCIe) [1.0s] / annotations = OK [0.7s]\n",
            "[UPLOADED] /content/dsail-porini-detection-v2-2/train/images/WATERBUCK_2021-12-25-17-59-38_jpg.rf.c1770896dd5c0495f7221f4116cb3a8d.jpg (8bob6jzSwSf4OzOrVwEt) [1.1s] / annotations = OK [0.7s]\n",
            "[UPLOADED] /content/dsail-porini-detection-v2-2/train/images/WATERBUCK_2021-12-25-18-43-58_jpg.rf.4c01f017237d3d5f2f1563d554c9f388.jpg (hmRaSO3OUyDQSB5jeBEP) [0.9s] / annotations = OK [0.7s]\n",
            "[UPLOADED] /content/dsail-porini-detection-v2-2/train/images/WATERBUCK_2021-12-25-17-59-41_jpg.rf.834c26e86c6eaae2714e4dcf99a88efb.jpg (xA0E0E0GYdBGO3sWb6Co) [1.1s] / annotations = OK [0.7s]\n",
            "[UPLOADED] /content/dsail-porini-detection-v2-2/train/images/WATERBUCK_2021-12-25-17-59-43_jpg.rf.33c6520ce305f8cb3190f6a4683c6b97.jpg (B9eUIPn1Y1cAXAsy2PvQ) [1.1s] / annotations = OK [0.7s]\n",
            "[UPLOADED] /content/dsail-porini-detection-v2-2/train/images/WATERBUCK_2021-12-25-18-43-47_jpg.rf.ad9b3e4d699865509b4cdf25be5f35d8.jpg (koeQtCgRduzSvxOIS6bG) [1.1s] / annotations = OK [0.7s]\n",
            "[UPLOADED] /content/dsail-porini-detection-v2-2/train/images/WATERBUCK_2021-12-25-18-44-11_jpg.rf.cdbf1210a17b26c13bab886eec89b933.jpg (jHstkQNUrjMjbuouGHvK) [1.2s] / annotations = OK [0.6s]\n",
            "[UPLOADED] /content/dsail-porini-detection-v2-2/train/images/WATERBUCK_2021-12-26-16-39-05_jpg.rf.e8fc819d93934737d4f171180ccbe21e.jpg (kc9Ur38KEjzhtvDPJ2Mg) [0.9s] / annotations = OK [0.6s]\n",
            "[UPLOADED] /content/dsail-porini-detection-v2-2/train/images/WATERBUCK_2021-12-26-16-47-50_jpg.rf.272b7781b2ff989853a231ad035d10c0.jpg (uBVXFiIsOwo1oVbeQMYb) [1.0s] / annotations = OK [0.7s]\n",
            "[UPLOADED] /content/dsail-porini-detection-v2-2/train/images/WATERBUCK_2021-12-26-17-20-48_jpg.rf.c440d867801708ef26aeaa8a8c2dbb23.jpg (Tlzs74Dko5jHohoestLA) [1.0s] / annotations = OK [0.7s]\n",
            "[UPLOADED] /content/dsail-porini-detection-v2-2/train/images/WATERBUCK_2021-12-26-17-20-55_jpg.rf.4e48d0b85eb8713f21ce9b5f6012e1ca.jpg (iJcmbPgbc8Fgzu1xnZ5Q) [1.0s] / annotations = OK [0.6s]\n",
            "[UPLOADED] /content/dsail-porini-detection-v2-2/train/images/WATERBUCK_2021-12-26-17-20-57_jpg.rf.626b4dc30148805b27c6df5718f240fb.jpg (lVXE4qT8D1iWkcw4qtpM) [1.0s] / annotations = OK [0.6s]\n",
            "[UPLOADED] /content/dsail-porini-detection-v2-2/train/images/WATERBUCK_snapshot_2019109424532168_jpg.rf.f50590c5a259f7140a3e706e2ae8eacd.jpg (B1Uwy51VvhQrJl6a8nyX) [0.9s] / annotations = OK [0.7s]\n",
            "[UPLOADED] /content/dsail-porini-detection-v2-2/train/images/WATERBUCK_snapshot_201910942453561_jpg.rf.4991a34b4641f1ebfecda566bd7d2427.jpg (V5341yiVX4qkzCPV8ISx) [0.9s] / annotations = OK [0.7s]\n",
            "[UPLOADED] /content/dsail-porini-detection-v2-2/train/images/ZEBRA_2021-07-01-15-52-10_jpg.rf.29fa1887e02d31d6cab115bce6b1f819.jpg (6AojKWTcplbZeF1whw6C) [1.0s] / annotations = OK [0.7s]\n",
            "[UPLOADED] /content/dsail-porini-detection-v2-2/train/images/ZEBRA_2021-10-07-15-37-34_jpg.rf.f4a4dc7394481a206a6216c4d7eca953.jpg (SHClxQyyxdI5HDKnuHmN) [1.1s] / annotations = OK [0.7s]\n",
            "[UPLOADED] /content/dsail-porini-detection-v2-2/train/images/ZEBRA_2021-10-07-15-37-41_jpg.rf.716144f0f14bcf0de522402ca61658b8.jpg (LGjjGj9GvspkQ8BxATau) [1.0s] / annotations = OK [0.6s]\n",
            "[UPLOADED] /content/dsail-porini-detection-v2-2/train/images/ZEBRA_2021-10-08-07-18-32_jpg.rf.00cefe0f6d76d683263e5bd9f8ab58ff.jpg (O7paGZH7HeB0Zgx4lebj) [0.9s] / annotations = OK [0.7s]\n",
            "[UPLOADED] /content/dsail-porini-detection-v2-2/train/images/ZEBRA_2021-10-08-07-18-25_jpg.rf.a79e4b37aab0c9f01daee8256c3eba07.jpg (IFjhgS8csJ7NdZhnneDS) [1.1s] / annotations = OK [0.7s]\n",
            "[UPLOADED] /content/dsail-porini-detection-v2-2/train/images/ZEBRA_2021-10-08-07-18-42_jpg.rf.0db8c32da629e800e007c5c289dda3b6.jpg (jMBpPSvY3I5r35ei8V0E) [0.9s] / annotations = OK [0.8s]\n",
            "[UPLOADED] /content/dsail-porini-detection-v2-2/train/images/ZEBRA_2021-10-08-17-33-05_jpg.rf.8624001f3c88d5b4272e94e4efb7a6c2.jpg (4JTTR5T2kPTQEdnpSMGS) [1.1s] / annotations = OK [0.7s]\n",
            "[UPLOADED] /content/dsail-porini-detection-v2-2/train/images/ZEBRA_2021-10-08-07-18-52_jpg.rf.c96bf8f5252273a393a1d9cbddf8398d.jpg (RMCdHsTf5cDkUVcFsRl5) [1.2s] / annotations = OK [0.8s]\n",
            "[UPLOADED] /content/dsail-porini-detection-v2-2/train/images/ZEBRA_2021-10-08-17-33-08_jpg.rf.8b5a89c203688dcd40ae3e343cbcb376.jpg (y0O9kt1PN7mvAgjha5W7) [0.9s] / annotations = OK [0.8s]\n",
            "[UPLOADED] /content/dsail-porini-detection-v2-2/train/images/ZEBRA_2021-10-08-17-33-12_jpg.rf.30a51d3d8bcde3436cd5cfb54392ae1c.jpg (5JnDmyoJFSgwMPSbxZrH) [0.9s] / annotations = OK [0.7s]\n",
            "[UPLOADED] /content/dsail-porini-detection-v2-2/train/images/ZEBRA_2021-10-08-17-33-27_jpg.rf.f3a210578a43e9d5ca3aa0ac05d8ee13.jpg (rSyG5POB9mlc6UDV7Ru6) [1.1s] / annotations = OK [0.8s]\n",
            "[UPLOADED] /content/dsail-porini-detection-v2-2/train/images/ZEBRA_2021-10-08-17-34-09_jpg.rf.d939ece474c0c469172811e71c8986e6.jpg (d4wl4H8KqooyFcn5qDKw) [0.9s] / annotations = OK [0.7s]\n",
            "[UPLOADED] /content/dsail-porini-detection-v2-2/train/images/ZEBRA_2021-10-08-17-34-12_jpg.rf.f19667b843704b4612570c365d764267.jpg (lVbERm47vCY0qy8G0S8S) [0.9s] / annotations = OK [0.7s]\n",
            "[UPLOADED] /content/dsail-porini-detection-v2-2/train/images/ZEBRA_2021-10-08-17-34-19_jpg.rf.21066107ab00ece4aa734a5aa10cad71.jpg (BcIQ0lUoBbf3F8L07ZGn) [0.9s] / annotations = OK [0.7s]\n",
            "[UPLOADED] /content/dsail-porini-detection-v2-2/train/images/ZEBRA_2021-10-14-15-14-46_jpg.rf.841ae51e70098cce51026de7d58c9643.jpg (7JSGp1CPfpQxWPXwyVLY) [1.0s] / annotations = OK [0.6s]\n",
            "[UPLOADED] /content/dsail-porini-detection-v2-2/train/images/ZEBRA_2021-10-14-15-14-49_jpg.rf.fac6f1fce641344cecfe58bb44569a98.jpg (LMNdGSlJQpvB5szgGBYE) [0.9s] / annotations = OK [0.6s]\n",
            "[UPLOADED] /content/dsail-porini-detection-v2-2/train/images/ZEBRA_2021-10-14-15-14-45_jpg.rf.6f6eee86dc19524c81a47f69a696e94e.jpg (0u0gFmOWFFh1FhU0jYPt) [1.4s] / annotations = OK [0.6s]\n",
            "[UPLOADED] /content/dsail-porini-detection-v2-2/train/images/ZEBRA_2021-10-14-15-14-48_jpg.rf.42bce6fb75f6fc6cac06b6c3d60c2a40.jpg (iz1Qsk6I2vKjGh0DuXPJ) [1.3s] / annotations = OK [0.6s]\n",
            "[UPLOADED] /content/dsail-porini-detection-v2-2/train/images/ZEBRA_2021-10-14-15-24-48_jpg.rf.93d4ab24126d9354fe8488ca144c9bb0.jpg (y0LeakZjd6NPG9enEg8y) [1.0s] / annotations = OK [0.6s]\n",
            "[UPLOADED] /content/dsail-porini-detection-v2-2/train/images/ZEBRA_2021-10-14-15-24-50_jpg.rf.caae52b08186e2ff69ac1b3c5569abf4.jpg (p33Kbwg7ggB0xJU6NA6N) [0.9s] / annotations = OK [0.6s]\n",
            "[UPLOADED] /content/dsail-porini-detection-v2-2/train/images/ZEBRA_2021-10-14-15-24-51_jpg.rf.805e9fb9b9f9b6ac7adfe5b3aa09971f.jpg (Ld59BnxIvc4tUSEDuAHB) [0.9s] / annotations = OK [0.7s]\n",
            "[UPLOADED] /content/dsail-porini-detection-v2-2/train/images/ZEBRA_2021-10-15-17-55-47_jpg.rf.c876308fedb8afe2da18a37d47b71194.jpg (OhJ9Cdju8Y8VuvsHMKIQ) [0.9s] / annotations = OK [0.7s]\n",
            "[UPLOADED] /content/dsail-porini-detection-v2-2/train/images/ZEBRA_2021-10-15-17-56-05_jpg.rf.a98a157bb113d6435da35dcac399b536.jpg (y2ZrKg2jv5sHKaI17PGv) [0.9s] / annotations = OK [0.6s]\n",
            "[UPLOADED] /content/dsail-porini-detection-v2-2/train/images/ZEBRA_2021-10-15-17-56-11_jpg.rf.856e3e8cc9e2ff125bc5bde0cbaabae0.jpg (L2OTXlOO4LzhgIty8eMG) [1.0s] / annotations = OK [0.8s]\n",
            "[UPLOADED] /content/dsail-porini-detection-v2-2/train/images/ZEBRA_2021-10-15-17-56-44_jpg.rf.a5ee50e29ec77c8304e6f617fc841f77.jpg (h5CPAmbQwBXQzY1eccRV) [1.1s] / annotations = OK [0.7s]\n",
            "[UPLOADED] /content/dsail-porini-detection-v2-2/train/images/ZEBRA_2021-10-15-18-14-14_jpg.rf.cd9d8009cb6346426d1e3a40f2b84a25.jpg (dAdgzkSup9NygqmsMiry) [1.1s] / annotations = OK [0.7s]\n",
            "[UPLOADED] /content/dsail-porini-detection-v2-2/train/images/ZEBRA_2021-10-15-18-14-15_jpg.rf.812780f3100e5e3ed5c020e12debff39.jpg (qk2FiWSGpVrU9mW87PAw) [0.9s] / annotations = OK [0.7s]\n",
            "[UPLOADED] /content/dsail-porini-detection-v2-2/train/images/ZEBRA_2021-10-15-18-14-17_jpg.rf.6750d8d43e891ddb34bdd6156ccbd179.jpg (2oCJWXaP1lnA1thbrEAg) [0.9s] / annotations = OK [0.7s]\n",
            "[UPLOADED] /content/dsail-porini-detection-v2-2/train/images/ZEBRA_2021-10-16-18-09-25_jpg.rf.f7b005cfe46419586e2df3a0943c5f8d.jpg (LcFdAOCDhvsAlSHfuNQh) [0.9s] / annotations = OK [0.7s]\n",
            "[UPLOADED] /content/dsail-porini-detection-v2-2/train/images/ZEBRA_2021-10-16-18-09-28_jpg.rf.4ddc3ef814b4386ea721272b95768ad9.jpg (5Uz3KmcXiN2mwDiTrO63) [1.1s] / annotations = OK [0.7s]\n",
            "[UPLOADED] /content/dsail-porini-detection-v2-2/train/images/ZEBRA_2021-10-16-18-09-32_jpg.rf.76e53cabd8f8785ed48dc6296560c5b6.jpg (Q4jtWiSGwhaXEw2Bn48y) [1.0s] / annotations = OK [0.7s]\n",
            "[UPLOADED] /content/dsail-porini-detection-v2-2/train/images/ZEBRA_2021-10-16-18-09-47_jpg.rf.7d11d8c3c9560c9a6a9a4b4a4efc4532.jpg (sArlo329b9V336JIgbhK) [1.3s] / annotations = OK [0.7s]\n",
            "[UPLOADED] /content/dsail-porini-detection-v2-2/train/images/ZEBRA_2021-10-16-18-18-17_jpg.rf.60e882caba9f8827a0aeb1b757b1b221.jpg (7j1RDv8nlbfLT7KfWaEX) [1.1s] / annotations = OK [0.8s]\n",
            "[UPLOADED] /content/dsail-porini-detection-v2-2/train/images/ZEBRA_2021-10-16-18-18-21_jpg.rf.e7da5e7c37bfec80e0a0e8efa6bfbdd2.jpg (3P7IXC8xJriculDp7S1X) [1.1s] / annotations = OK [0.8s]\n",
            "[UPLOADED] /content/dsail-porini-detection-v2-2/train/images/ZEBRA_2021-10-16-18-18-25_jpg.rf.106395635fe3c8d3dbb1d771ed687e30.jpg (nkO70Mrp0LNaVdEkHZYL) [1.0s] / annotations = OK [0.8s]\n",
            "[UPLOADED] /content/dsail-porini-detection-v2-2/train/images/ZEBRA_2021-10-16-18-18-27_jpg.rf.017330e714df1f9ae2045d4a23936129.jpg (RwgfAGvRbji8gOSQvphd) [1.0s] / annotations = OK [0.7s]\n",
            "[UPLOADED] /content/dsail-porini-detection-v2-2/train/images/ZEBRA_2021-10-17-15-02-56_jpg.rf.d061d92a8d2afe70d84716daa5edd064.jpg (z5ZSSmcIHdCXJhW1USq1) [0.9s] / annotations = OK [0.6s]\n",
            "[UPLOADED] /content/dsail-porini-detection-v2-2/train/images/ZEBRA_2021-10-17-15-03-59_jpg.rf.53e80efce1449639f30f358e7420e787.jpg (wASPbHroy9NPemYxzCtW) [0.9s] / annotations = OK [0.6s]\n",
            "[UPLOADED] /content/dsail-porini-detection-v2-2/train/images/ZEBRA_2021-10-17-15-04-01_jpg.rf.2edcbd9feab15e04cde6540532dba598.jpg (bZwMiiwjsoWOCpfkjykH) [1.0s] / annotations = OK [0.7s]\n",
            "[UPLOADED] /content/dsail-porini-detection-v2-2/train/images/ZEBRA_2021-11-25-10-04-05_jpg.rf.b0838f11425fcfa6ce51afa3404af870.jpg (q3Q46OZx5DrN89fDySr6) [1.2s] / annotations = OK [0.7s]\n",
            "[UPLOADED] /content/dsail-porini-detection-v2-2/train/images/ZEBRA_2021-11-25-10-05-02_jpg.rf.950889b2dc5cae8915172bdd78ba446c.jpg (mXLmvNkM3tR55jJiM1wH) [1.1s] / annotations = OK [0.7s]\n",
            "[UPLOADED] /content/dsail-porini-detection-v2-2/train/images/ZEBRA_2021-11-25-10-05-15_jpg.rf.4b21d2d9000ef3789a6b5c9a0d6846fd.jpg (DYH3ZAIs34eiqY08FpPx) [1.0s] / annotations = OK [0.7s]\n",
            "[UPLOADED] /content/dsail-porini-detection-v2-2/train/images/ZEBRA_snapshot_20191083554883_jpg.rf.34332db6f2c79f459e7dd637971aa9da.jpg (vR5Rbnskhk3aOF2LpIrO) [1.1s] / annotations = OK [0.7s]\n",
            "[UPLOADED] /content/dsail-porini-detection-v2-2/train/images/ZEBRA_2021-11-25-10-04-10_jpg.rf.2dc7b9d3224075116724f253783651b5.jpg (782vKqV01RkIsHYzkPuF) [1.4s] / annotations = OK [0.6s]\n",
            "[UPLOADED] /content/dsail-porini-detection-v2-2/train/images/ZEBRA_snapshot_201910835557136_jpg.rf.9744c3346fa79f3c4ac289e1ec641836.jpg (QVo7wNDeNGsHYIyJnuKE) [1.2s] / annotations = OK [0.6s]\n",
            "[UPLOADED] /content/dsail-porini-detection-v2-2/train/images/ZEBRA_2021-11-25-10-05-12_jpg.rf.218972f0170fb44a62c68daee7b98cfe.jpg (GX7aAUdZLXpPl56h4Vfv) [1.7s] / annotations = OK [0.6s]\n",
            "[UPLOADED] /content/dsail-porini-detection-v2-2/train/images/ZEBRA_snapshot_201910835632217_jpg.rf.0154d0b92594a3e4c10496b18bc13187.jpg (KjgGhQw9OQjdKsc3Pf7M) [1.0s] / annotations = OK [0.8s]\n",
            "[UPLOADED] /content/dsail-porini-detection-v2-2/train/images/ZEBRA_snapshot_20191083564121_jpg.rf.6c141e53d91cf42f0f049fb2dec06dcf.jpg (mq1w82QBc4SyaI0hwtmj) [1.2s] / annotations = OK [0.6s]\n",
            "[UPLOADED] /content/dsail-porini-detection-v2-2/train/images/ZEBRA_snapshot_20191083565182_jpg.rf.3296a7dbd1387bdb10244b8cc0f2b227.jpg (rffUbimYIfXXEdSxBh8p) [1.3s] / annotations = OK [0.6s]\n",
            "[UPLOADED] /content/dsail-porini-detection-v2-2/train/images/ZEBRA_snapshot_20191083574209_jpg.rf.39387bac757ef9be8217e122caf7f3d2.jpg (REPIzX1HcI6PqDc175co) [1.5s] / annotations = OK [0.7s]\n",
            "[UPLOADED] /content/dsail-porini-detection-v2-2/train/images/ZEBRA_snapshot_2019108373131153_jpg.rf.b6da34b1867c34025f68c119e8b01ca0.jpg (iSE51MYBFXuAVRXw2zZo) [1.4s] / annotations = OK [0.8s]\n",
            "[UPLOADED] /content/dsail-porini-detection-v2-2/train/images/ZEBRA_snapshot_201910942572864_jpg.rf.60730cf1e5ba1e4135494c75d9d2a1bc.jpg (CrXNC7VRqU0ZuKV3uNtY) [1.1s] / annotations = OK [0.7s]\n",
            "[UPLOADED] /content/dsail-porini-detection-v2-2/train/images/ZEBRA_snapshot_20191083564212_jpg.rf.c265cf099b0bafbd8a6261b809239b9c.jpg (oVv6j4zdIWY0obAGzxTm) [1.7s] / annotations = OK [0.8s]\n",
            "[UPLOADED] /content/dsail-porini-detection-v2-2/train/images/ZEBRA_snapshot_2019108373442241_jpg.rf.ca42b19e0247e4c67de596c058895eaf.jpg (98cJ9k8ctosB88vFyAWo) [1.5s] / annotations = OK [0.8s]\n",
            "[UPLOADED] /content/dsail-porini-detection-v2-2/train/images/ZEBRA_snapshot_201910949363798_jpg.rf.b56b51f12ed542f964807ecd8532dffb.jpg (U4DoTMorQrP7B4QMjd84) [1.1s] / annotations = OK [0.9s]\n",
            "[UPLOADED] /content/dsail-porini-detection-v2-2/train/images/ZEBRA_snapshot_201910949445593_jpg.rf.021837e05cbfa9ea8775fc7964c234ce.jpg (TUPdw0yGv9bGdK5G4Wwp) [1.0s] / annotations = OK [0.8s]\n",
            "[UPLOADED] /content/dsail-porini-detection-v2-2/train/images/ZEBRA_snapshot_201910949445958_jpg.rf.edcffb4516ca19cf0401f601b15841e4.jpg (EuXlxHANdptR1RiY4T3j) [1.1s] / annotations = OK [0.7s]\n",
            "[UPLOADED] /content/dsail-porini-detection-v2-2/valid/images/BUSHBUCK_2021-12-02-17-32-08_jpg.rf.1043ac792ae98c3c5895632d8485bf7c.jpg (9uUu6JWJctM9cnUU1QRl) [0.9s] / annotations = OK [0.7s]\n",
            "[UPLOADED] /content/dsail-porini-detection-v2-2/valid/images/BUSHBUCK_2021-08-23-06-52-49_jpg.rf.6c13ebfadd9992a0ba03d316f5d411fd.jpg (nJYCYDfG8TwGJUh4DL8T) [1.0s] / annotations = OK [0.8s]\n",
            "[UPLOADED] /content/dsail-porini-detection-v2-2/valid/images/BUSHBUCK_2021-09-03-17-52-37_jpg.rf.01ee3a05699c7d7b8eed15f76650434b.jpg (UXzy40xCwiUk8LGFgBxm) [1.0s] / annotations = OK [0.7s]\n",
            "[UPLOADED] /content/dsail-porini-detection-v2-2/valid/images/BUSHBUCK_2021-09-23-07-06-16_jpg.rf.0de8d60eeeb9c5c01561514616775984.jpg (B5dYf8eetLyInWmgTH65) [1.0s] / annotations = OK [0.7s]\n",
            "[UPLOADED] /content/dsail-porini-detection-v2-2/valid/images/BUSHBUCK_2021-12-23-17-54-45_jpg.rf.f956083db0680042dcf03b8845727a41.jpg (4aQP9VSgoRvy1NPrf4eZ) [1.0s] / annotations = OK [0.6s]\n",
            "[UPLOADED] /content/dsail-porini-detection-v2-2/valid/images/BUSHBUCK_2021-12-23-17-55-53_jpg.rf.87a67da7a88c2ffab0edbc1c8fa3c67b.jpg (YSVpabR9O3RVZpnVgsMc) [1.0s] / annotations = OK [0.6s]\n",
            "[UPLOADED] /content/dsail-porini-detection-v2-2/valid/images/BUSHBUCK_2021-12-23-17-56-05_jpg.rf.15fe16a95b4601d76406b52ddb75bb42.jpg (HBB6ab8WaCORSqjdAvRb) [1.1s] / annotations = OK [0.6s]\n",
            "[UPLOADED] /content/dsail-porini-detection-v2-2/valid/images/BUSHBUCK_2021-12-23-17-56-12_jpg.rf.f2abb9d17651d556ee2bf468f7b3e182.jpg (omW7gg8BLHoPbeCHpx6d) [1.0s] / annotations = OK [0.6s]\n",
            "[UPLOADED] /content/dsail-porini-detection-v2-2/valid/images/IMPALA_2021-08-13-16-21-47_jpg.rf.a82588a5d6ad896b84b4536b6cd40e80.jpg (xtRmIOQGSGNyZ9xajfPJ) [1.1s] / annotations = OK [0.7s]\n",
            "[UPLOADED] /content/dsail-porini-detection-v2-2/valid/images/IMPALA_2021-08-13-16-22-51_jpg.rf.b8a421a377e4e988573e9a1c7e913d93.jpg (AbTU9YQn6uuDTQCwodaL) [1.1s] / annotations = OK [0.7s]\n",
            "[UPLOADED] /content/dsail-porini-detection-v2-2/valid/images/BUSHBUCK_2021-12-24-18-34-15_jpg.rf.97a7ac869ec4635e44b8c62845f72ff9.jpg (EIeURgG68huYYCELchQ2) [1.1s] / annotations = OK [0.8s]\n",
            "[UPLOADED] /content/dsail-porini-detection-v2-2/valid/images/IMPALA_2021-09-05-10-29-30_jpg.rf.d7f45893398c53caf73b98e60fd6dc32.jpg (BA4gaa2NfgEQvDebnfSK) [1.2s] / annotations = OK [0.7s]\n",
            "[UPLOADED] /content/dsail-porini-detection-v2-2/valid/images/IMPALA_2021-09-05-10-29-53_jpg.rf.7f2171c7cc03444df37d48b3ac5e731f.jpg (kizjyX9zELNh9QyggkX9) [1.1s] / annotations = OK [0.7s]\n",
            "[UPLOADED] /content/dsail-porini-detection-v2-2/valid/images/IMPALA_2021-09-05-10-29-34_jpg.rf.2d318ce7aae0d4d4f16fb30a4bf798ce.jpg (FmqNMvkKXHsPxSpq7eQo) [1.1s] / annotations = OK [0.8s]\n",
            "[UPLOADED] /content/dsail-porini-detection-v2-2/valid/images/IMPALA_2021-09-05-10-30-03_jpg.rf.27601aa46c155ebd4f614ee91cf58dc6.jpg (v2fio7TjCnzaoZQE2zcX) [1.2s] / annotations = OK [0.6s]\n",
            "[UPLOADED] /content/dsail-porini-detection-v2-2/valid/images/IMPALA_2021-10-14-16-20-17_jpg.rf.ec4652546a7dce42b73e975eb4841a35.jpg (H45Xoi5imioqrvMxhCsk) [1.0s] / annotations = OK [0.6s]\n",
            "[UPLOADED] /content/dsail-porini-detection-v2-2/valid/images/IMPALA_2021-09-14-10-49-10_jpg.rf.2a6ff6971a3480516d1cd9fbecbbcdaa.jpg (WkHPGlTSd9Z3LT0PveeT) [1.5s] / annotations = OK [0.7s]\n",
            "[UPLOADED] /content/dsail-porini-detection-v2-2/valid/images/IMPALA_2021-10-18-06-27-08_jpg.rf.6aa4b521cc33201cc37bc13d1dd6312f.jpg (FGSg8nk1BAfUHdNM2108) [1.0s] / annotations = OK [0.7s]\n",
            "[UPLOADED] /content/dsail-porini-detection-v2-2/valid/images/IMPALA_2021-11-23-09-26-15_jpg.rf.c9e89a363ed0a4a5269dd17821e77147.jpg (W4xZ9AbBPI2pSYD6uTn4) [0.9s] / annotations = OK [0.8s]\n",
            "[UPLOADED] /content/dsail-porini-detection-v2-2/valid/images/IMPALA_2021-10-22-06-16-09_jpg.rf.ba36e1698f018ddf95a0daec6161c4b5.jpg (Oc0dboOKoFh84VeUknDe) [1.0s] / annotations = OK [0.7s]\n",
            "[UPLOADED] /content/dsail-porini-detection-v2-2/valid/images/IMPALA_2021-10-22-06-15-13_jpg.rf.a612886390d6f31e3f94525fe22e2177.jpg (oE7745wnnLPkt0ACYLAA) [1.1s] / annotations = OK [0.8s]\n",
            "[UPLOADED] /content/dsail-porini-detection-v2-2/valid/images/MONKEY_2021-08-08-10-24-00_jpg.rf.f3fce122dcaf85ffa559af3e4a348f8a.jpg (XSirCI9oMwfjo8wTIBUM) [1.4s] / annotations = OK [0.8s]\n",
            "[UPLOADED] /content/dsail-porini-detection-v2-2/valid/images/MONKEY_2021-08-08-10-27-43_jpg.rf.df0b4ebee0c290f35d9a22f0814ea40b.jpg (vWNT1QzMJZDeIglzgNSK) [1.2s] / annotations = OK [0.7s]\n",
            "[UPLOADED] /content/dsail-porini-detection-v2-2/valid/images/MONKEY_2021-08-08-10-28-54_jpg.rf.635afa2dcaa4a432bc6c201c91a3e527.jpg (yjZOvE89o3Njosb5r41g) [1.3s] / annotations = OK [0.6s]\n",
            "[UPLOADED] /content/dsail-porini-detection-v2-2/valid/images/MONKEY_2021-08-08-10-30-33_jpg.rf.a59b00e9c41500f05ed54107ebf9b3d7.jpg (6siCwJUBrnKuYGA82nWR) [1.5s] / annotations = OK [0.7s]\n",
            "[UPLOADED] /content/dsail-porini-detection-v2-2/valid/images/MONKEY_2021-09-22-14-50-38_jpg.rf.863357f9b7b1817a7b7d671fa2f54b25.jpg (czdZmX2qMixcBDbBOm6y) [1.4s] / annotations = OK [0.7s]\n",
            "[UPLOADED] /content/dsail-porini-detection-v2-2/valid/images/WARTHOG_2021-10-14-10-23-48_jpg.rf.20effcda0fe4864ecaf5ef3e3c70eea1.jpg (eiB2o7AGpjxQgCNUDaS9) [1.2s] / annotations = OK [0.8s]\n",
            "[UPLOADED] /content/dsail-porini-detection-v2-2/valid/images/MONKEY_2021-09-16-13-54-13_jpg.rf.5a37ee37f360f1a3eea6b0966ea6d507.jpg (HFBmiqXS9L0OvCo4zRDw) [1.6s] / annotations = OK [0.6s]\n",
            "[UPLOADED] /content/dsail-porini-detection-v2-2/valid/images/WARTHOG_2021-09-23-15-27-16_jpg.rf.0e5f402feca097acdd368fd85dc7d570.jpg (Fe9M5uCGmUSEGrJ7hJWC) [1.3s] / annotations = OK [0.9s]\n",
            "[UPLOADED] /content/dsail-porini-detection-v2-2/valid/images/WARTHOG_2021-10-14-10-23-49_jpg.rf.7ae5ee01d67e56fcb967c26479b28e7c.jpg (oDru7w6rORPZyFuCKHig) [1.0s] / annotations = OK [0.7s]\n",
            "[UPLOADED] /content/dsail-porini-detection-v2-2/valid/images/WARTHOG_2021-10-14-10-24-20_jpg.rf.8cd860e80196e382d9d7bea33208e6a4.jpg (6JVRTF7VDe4G01uyoIWm) [0.7s] / annotations = OK [0.7s]\n",
            "[UPLOADED] /content/dsail-porini-detection-v2-2/valid/images/WARTHOG_2021-10-14-10-24-25_jpg.rf.fd7a272ac23a900f7931398cabfad334.jpg (m3fzGlIu2IBWGI3Kjeen) [0.9s] / annotations = OK [0.7s]\n",
            "[UPLOADED] /content/dsail-porini-detection-v2-2/valid/images/WARTHOG_2021-10-14-10-32-43_jpg.rf.afd17c1d5945224306c91b3043dc5d7c.jpg (3Ud5wYY3csCwU7Fn19R8) [1.1s] / annotations = OK [0.6s]\n",
            "[UPLOADED] /content/dsail-porini-detection-v2-2/valid/images/WARTHOG_2021-10-14-10-34-14_jpg.rf.46cad7ec62b41a5373ae88090262d179.jpg (GVOCGb9OpDUdJTotnVdu) [1.1s] / annotations = OK [0.7s]\n",
            "[UPLOADED] /content/dsail-porini-detection-v2-2/valid/images/WARTHOG_2021-12-16-17-57-48_jpg.rf.6bf782af5a4d8da1504037e3c634e45e.jpg (Qj06SCUvDa0jiFh36uBW) [1.0s] / annotations = OK [0.8s]\n",
            "[UPLOADED] /content/dsail-porini-detection-v2-2/valid/images/WARTHOG_snapshot_2019109434147133_jpg.rf.51e864a2b783051951a05561bdd9ced1.jpg (jZQCO5uuwGD3CecsFVjc) [0.9s] / annotations = OK [0.8s]\n",
            "[UPLOADED] /content/dsail-porini-detection-v2-2/valid/images/WARTHOG_2021-10-14-10-36-09_jpg.rf.baae91da0e4d7f0ce843d655ed34ff6e.jpg (GYqky7CbVFTGLW83AVVM) [1.2s] / annotations = OK [0.7s]\n",
            "[UPLOADED] /content/dsail-porini-detection-v2-2/valid/images/WARTHOG_2021-10-14-10-33-46_jpg.rf.c54e515e0c2457cab09ba2ae3022e162.jpg (b45XairyiQZnWNfXWnav) [1.4s] / annotations = OK [0.7s]\n",
            "[UPLOADED] /content/dsail-porini-detection-v2-2/valid/images/WATERBUCK_2021-10-23-08-38-15_jpg.rf.e3ccc4e61f5f8dc96adb627380337b1e.jpg (mdusJ9ZhyMWGv87wyD1X) [1.0s] / annotations = OK [0.7s]\n",
            "[UPLOADED] /content/dsail-porini-detection-v2-2/valid/images/WATERBUCK_2021-12-16-17-47-18_jpg.rf.2a6ef6e9b92056759ad5cef473036cb3.jpg (wQUZAT5r4ks4Yucwd43L) [1.3s] / annotations = OK [0.6s]\n",
            "[UPLOADED] /content/dsail-porini-detection-v2-2/valid/images/WATERBUCK_2021-12-16-18-21-18_jpg.rf.8fe688918eb119e9b973f0aff6662178.jpg (jM8WcAIjUFKxOZ6KaGry) [1.4s] / annotations = OK [0.6s]\n",
            "[UPLOADED] /content/dsail-porini-detection-v2-2/valid/images/WATERBUCK_2021-12-23-18-22-24_jpg.rf.23ac4225d96b10af9fd50df719680b24.jpg (qsX73cAQWa3C2dxknXtu) [1.2s] / annotations = OK [0.6s]\n",
            "[UPLOADED] /content/dsail-porini-detection-v2-2/valid/images/WATERBUCK_2021-12-25-16-42-31_jpg.rf.257e8a81d6361c23967b46c4a158d1d0.jpg (5r3lo7vy5vPNdFKia9OE) [0.9s] / annotations = OK [0.6s]\n",
            "[UPLOADED] /content/dsail-porini-detection-v2-2/valid/images/WATERBUCK_2021-12-23-17-57-38_jpg.rf.b150cb59a63dd8f301a7b91b3ffbd2b1.jpg (VokUJ7LHRpzf0rIwmm2g) [1.4s] / annotations = OK [0.8s]\n",
            "[UPLOADED] /content/dsail-porini-detection-v2-2/valid/images/WATERBUCK_2021-12-23-17-56-56_jpg.rf.c82c862dd294d3f036bc7ed01dbd45a0.jpg (a2QUZwCHwGPYUFcgUPTU) [1.3s] / annotations = OK [0.9s]\n",
            "[UPLOADED] /content/dsail-porini-detection-v2-2/valid/images/WATERBUCK_2021-12-23-18-23-23_jpg.rf.07c221de1692f5117bc74db8c2286c0b.jpg (NxWC1LvVOrcvvLpJC1W5) [1.5s] / annotations = OK [0.6s]\n",
            "[UPLOADED] /content/dsail-porini-detection-v2-2/valid/images/WATERBUCK_2021-12-23-18-27-51_jpg.rf.2a0c93de9547b103b54371f5fc89b840.jpg (lTzffRXNjHxwIdAKfbxu) [1.7s] / annotations = OK [0.7s]\n",
            "[UPLOADED] /content/dsail-porini-detection-v2-2/valid/images/WATERBUCK_2021-12-25-16-42-36_jpg.rf.188054425c1bb90ceeee13aa940ae6f8.jpg (YBEsiY8Ju78CTlgngzfV) [0.8s] / annotations = OK [0.6s]\n",
            "[UPLOADED] /content/dsail-porini-detection-v2-2/valid/images/WATERBUCK_2021-12-25-16-43-19_jpg.rf.baecf23ce72b7cc914c6e6e065a4c5eb.jpg (2s7RIoEqwk7zdyoorehP) [1.1s] / annotations = OK [0.7s]\n",
            "[UPLOADED] /content/dsail-porini-detection-v2-2/valid/images/WATERBUCK_2021-12-25-16-45-14_jpg.rf.f6e52fa4955e54b3c00c1ddc885fcc6f.jpg (xxWnxaihkj71iq6lGt1L) [1.2s] / annotations = OK [0.7s]\n",
            "[UPLOADED] /content/dsail-porini-detection-v2-2/valid/images/WATERBUCK_2021-12-25-17-00-42_jpg.rf.d65e03e3630722fa3e4f2946cbf57da7.jpg (NIz3D5VunuzfcB6haLem) [1.2s] / annotations = OK [0.7s]\n",
            "[UPLOADED] /content/dsail-porini-detection-v2-2/valid/images/WATERBUCK_2021-12-25-17-57-06_jpg.rf.30f46df298c289587a74e2afc9d9ae3c.jpg (VAicspcqiWt5DjKtYRXj) [0.9s] / annotations = OK [0.7s]\n",
            "[UPLOADED] /content/dsail-porini-detection-v2-2/valid/images/WATERBUCK_2021-12-25-17-11-53_jpg.rf.7ad70966fc900876553921c3e6d91a5d.jpg (1nQ1ZHtBsLZBQ4N248tH) [1.0s] / annotations = OK [0.7s]\n",
            "[UPLOADED] /content/dsail-porini-detection-v2-2/valid/images/WATERBUCK_2021-12-26-16-39-07_jpg.rf.39c6a8b61e43cede5963e5da1b82c92e.jpg (3KfyY9VuyWFs2mokBvio) [0.9s] / annotations = OK [0.7s]\n",
            "[UPLOADED] /content/dsail-porini-detection-v2-2/valid/images/WATERBUCK_2021-12-25-17-11-48_jpg.rf.f5383c4fccf6fca54afe4f3d92980e11.jpg (R9hIY1wxGpOTTdZCFY2k) [1.3s] / annotations = OK [0.7s]\n",
            "[UPLOADED] /content/dsail-porini-detection-v2-2/valid/images/WATERBUCK_2021-12-26-16-47-53_jpg.rf.68f42c7112305a632fccb297b6fe6c47.jpg (cXz4kuNE7GOW7AsI64dE) [1.1s] / annotations = OK [0.7s]\n",
            "[UPLOADED] /content/dsail-porini-detection-v2-2/valid/images/WATERBUCK_2021-12-26-17-21-35_jpg.rf.4d9c96b2fd16ca76719ae6e7a8ac22ed.jpg (hFOHFvmrojmcf8xiOZBC) [0.9s] / annotations = OK [0.7s]\n",
            "[UPLOADED] /content/dsail-porini-detection-v2-2/valid/images/WATERBUCK_snapshot_2019109424533134_jpg.rf.c0df04361764cd4ff5bfe1bb662edbff.jpg (hFvYWBnTE8Y8br8Y64zw) [0.9s] / annotations = OK [0.6s]\n",
            "[UPLOADED] /content/dsail-porini-detection-v2-2/train/images/MONKEY_2021-09-16-13-54-06_jpg.rf.00b05633fbd30ae2446d249523114603.jpg (6K31nyHuGBuforvu59co) [1.3s] / annotations = ERR: save annotation for 6K31nyHuGBuforvu59co / bad response: 502: <Response [502]> [60.1s]\n",
            "[UPLOADED] /content/dsail-porini-detection-v2-2/valid/images/ZEBRA_2021-10-08-17-33-59_jpg.rf.305d7dba461f7344f216b6eac4fe5c22.jpg (XdaGo02KTaEFr5BNgfnU) [0.9s] / annotations = OK [0.6s]\n",
            "[UPLOADED] /content/dsail-porini-detection-v2-2/valid/images/ZEBRA_2021-10-14-15-24-53_jpg.rf.7d4614a9ecf31103e87000f2dce30069.jpg (hcHSN21RzDcTgkUCYXax) [1.0s] / annotations = OK [0.6s]\n",
            "[UPLOADED] /content/dsail-porini-detection-v2-2/valid/images/ZEBRA_2021-10-15-17-55-45_jpg.rf.57736415a7b791549c46d27a58234665.jpg (D2k0xx4ToESGKKn5m1jG) [1.0s] / annotations = OK [0.6s]\n",
            "[UPLOADED] /content/dsail-porini-detection-v2-2/valid/images/ZEBRA_2021-10-15-18-13-51_jpg.rf.2a3bc1845901506008c3606ae2973764.jpg (tHziRKgVQ9AZ5zTBDKLk) [0.9s] / annotations = OK [0.9s]\n",
            "[UPLOADED] /content/dsail-porini-detection-v2-2/valid/images/ZEBRA_2021-10-16-18-09-26_jpg.rf.226e2cc3d0f84035364b6ee5202b30c3.jpg (QJjj3xqE6kx2IqnEGEqo) [1.1s] / annotations = OK [0.7s]\n",
            "[UPLOADED] /content/dsail-porini-detection-v2-2/valid/images/ZEBRA_2021-10-16-18-18-03_jpg.rf.9e55fe903a320db783921cc79a7a90b0.jpg (hZtO7IyowPnfI0pWKsjc) [1.5s] / annotations = OK [0.7s]\n",
            "[UPLOADED] /content/dsail-porini-detection-v2-2/valid/images/ZEBRA_2021-11-25-10-04-17_jpg.rf.b67b9f827dc784b4905473e3b478e0e6.jpg (it40t6KswQHgKZIYl6LN) [1.2s] / annotations = OK [0.6s]\n",
            "[UPLOADED] /content/dsail-porini-detection-v2-2/valid/images/ZEBRA_2021-11-25-10-05-00_jpg.rf.15866f4e32febf42b48eb77b50acc54c.jpg (xBHqX30Otr94wrAUYJ4Y) [1.1s] / annotations = OK [0.7s]\n",
            "[UPLOADED] /content/dsail-porini-detection-v2-2/valid/images/ZEBRA_snapshot_201910949365225_jpg.rf.0f430c726b7bfbc4dc0bcd4446578212.jpg (KGbml4HqzjHf5mwYO1Pe) [0.9s] / annotations = OK [0.7s]\n",
            "[UPLOADED] /content/dsail-porini-detection-v2-2/valid/images/ZEBRA_snapshot_201910837435068_jpg.rf.4f7a73b9f16ce2b66ed9bee23fc3bd3f.jpg (tm3RReYYQMsseCYYXnPl) [1.1s] / annotations = OK [0.7s]\n",
            "[UPLOADED] /content/dsail-porini-detection-v2-2/valid/images/ZEBRA_snapshot_201910942572929_jpg.rf.436ba84dce52f896bf0119d044acd0a1.jpg (IJ6gtCpfVjljq7gB8rye) [1.1s] / annotations = OK [0.8s]\n",
            "[UPLOADED] /content/dsail-porini-detection-v2-2/valid/images/ZEBRA_2021-11-25-10-04-08_jpg.rf.f247ea9c94c02b4197aa34c7fda048a0.jpg (ZG29AxPUvcXSpsCcTbvh) [1.7s] / annotations = OK [0.7s]\n",
            "[UPLOADED] /content/dsail-porini-detection-v2-2/train/images/WARTHOG_2021-10-14-10-23-59_jpg.rf.393900a3cd78aa657395bda6697b827c.jpg (ODTUFXvHJuOh22ThIW93) [1.0s] / annotations = ERR: HTTPSConnectionPool(host='api.roboflow.com', port=443): Read timed out. (read timeout=60) [60.2s]\n"
          ]
        }
      ],
      "source": [
        "## Get your active Roboflow workspace\n",
        "workspace = rf.workspace()\n",
        "print(f\"Active Workspace : {workspace.name}\")\n",
        "\n",
        "## Create a new project in the active workspace\n",
        "project = workspace.create_project(\n",
        "    project_name=PROJECT_NAME,\n",
        "    project_type=\"object-detection\",\n",
        "    project_license=\"MIT\",\n",
        "    annotation='yolov8'\n",
        ")\n",
        "\n",
        "## Upload the dataset to the new project\n",
        "workspace.upload_dataset(\n",
        "    dataset_path=DATASET_PATH,\n",
        "    num_workers=10,\n",
        "    project_name=PROJECT_NAME,\n",
        "    project_license=\"MIT\",\n",
        "    project_type=\"object-detection\"\n",
        ")"
      ]
    },
    {
      "cell_type": "markdown",
      "metadata": {
        "id": "gkex4R6PAk1G"
      },
      "source": [
        "### 3) Download the images to annotate"
      ]
    },
    {
      "cell_type": "code",
      "execution_count": 7,
      "metadata": {
        "id": "pmyycfBe_JGv"
      },
      "outputs": [],
      "source": [
        "## Download the images zip from github\n",
        "!wget -q \"https://raw.githubusercontent.com/Marconi-Lab/dsa_2024/main/dsail-porini-detection-unannotated-images.zip\"\n",
        "\n",
        "## Unzip\n",
        "!unzip -q dsail-porini-detection-unannotated-images.zip"
      ]
    },
    {
      "cell_type": "markdown",
      "metadata": {
        "id": "JW5faW3FAp1R"
      },
      "source": [
        "### 4) Upload the unannotated images to the same Roboflow Project"
      ]
    },
    {
      "cell_type": "code",
      "execution_count": 8,
      "metadata": {
        "colab": {
          "base_uri": "https://localhost:8080/"
        },
        "id": "ggLii9isAwuB",
        "outputId": "01cedb22-beec-4f0c-de8c-ec75252be38c"
      },
      "outputs": [
        {
          "name": "stderr",
          "output_type": "stream",
          "text": [
            "100%|██████████| 41/41 [00:00<00:00, 319640.27it/s]"
          ]
        },
        {
          "name": "stdout",
          "output_type": "stream",
          "text": [
            "\rloading Roboflow project...\n"
          ]
        },
        {
          "name": "stderr",
          "output_type": "stream",
          "text": [
            "\n"
          ]
        },
        {
          "name": "stdout",
          "output_type": "stream",
          "text": [
            "Uploading to existing project mltowardsobb/dsail-porini-detection-fork\n",
            "[UPLOADED] /content/dsail-porini-detection-unannotated-images/BACKGROUND_2021-11-03-10-01-20.jpg (qv3L9W6FMAr2wDoJIYqI) [1.5s]\n",
            "[UPLOADED] /content/dsail-porini-detection-unannotated-images/BACKGROUND_2021-12-24-06-51-06.jpg (G3gd2XdgqOtfy9RV4ThJ) [1.7s]\n",
            "[UPLOADED] /content/dsail-porini-detection-unannotated-images/BACKGROUND_2021-12-24-06-50-08.jpg (bNtOttphGuiigi6noYKz) [1.8s]\n",
            "[UPLOADED] /content/dsail-porini-detection-unannotated-images/BUSHBUCK_2021-12-23-17-51-47.jpg (lkPDLWqSbLi7ZseNoEYP) [1.7s]\n",
            "[UPLOADED] /content/dsail-porini-detection-unannotated-images/IMPALA_2021-09-18-10-49-32.jpg (gPNCH1okfORCf3dnJL3w) [1.7s]\n",
            "[UPLOADED] /content/dsail-porini-detection-unannotated-images/BUSHBUCK_2021-12-23-17-56-17.jpg (pLL5f66p8E66Ko9KiHT3) [1.9s]\n",
            "[UPLOADED] /content/dsail-porini-detection-unannotated-images/BACKGROUND_2021-11-03-10-00-52.jpg (LiZ8ze6EXWmPfodnAuwl) [2.0s]\n",
            "[UPLOADED] /content/dsail-porini-detection-unannotated-images/IMPALA_2021-09-14-10-49-20.jpg (HdLOspZCBNEHTmEETcrd) [2.0s]\n",
            "[UPLOADED] /content/dsail-porini-detection-unannotated-images/BACKGROUND_2021-12-24-06-49-38.jpg (oLTJoHSUCW7J8JahLV1k) [2.2s]\n",
            "[UPLOADED] /content/dsail-porini-detection-unannotated-images/BACKGROUND_2021-12-24-06-59-36.jpg (RqrrHdJySEEoiEOgu3Nu) [2.2s]\n",
            "[UPLOADED] /content/dsail-porini-detection-unannotated-images/IMPALA_2021-10-02-17-17-20.jpg (gWDhoWxPuOB3F6LZNE01) [1.0s]\n",
            "[UPLOADED] /content/dsail-porini-detection-unannotated-images/IMPALA_2021-10-08-17-39-25.jpg (egOTpYKLMjFqWP17l9S9) [0.9s]\n",
            "[UPLOADED] /content/dsail-porini-detection-unannotated-images/MONKEY_2021-11-02-08-37-48.jpg (2vY3wZjAradXOxxhF2hO) [0.7s]\n",
            "[UPLOADED] /content/dsail-porini-detection-unannotated-images/MONKEY_2021-09-22-15-05-23.jpg (OHyEtUQQRFEHh1TvzGKE) [1.1s]\n",
            "[UPLOADED] /content/dsail-porini-detection-unannotated-images/IMPALA_snapshot_201910941155771.jpg (nIUjofr5NHblbyGEQPvA) [1.2s]\n",
            "[UPLOADED] /content/dsail-porini-detection-unannotated-images/WARTHOG_2021-12-16-17-57-43.jpg (dGGpZs4nrYhNXxzEiHtP) [1.1s]\n",
            "[UPLOADED] /content/dsail-porini-detection-unannotated-images/WARTHOG_2021-12-16-17-57-51.jpg (00gpHqYzI3adMrZCF49j) [1.0s]\n",
            "[UPLOADED] /content/dsail-porini-detection-unannotated-images/MONKEY_2021-09-29-13-51-48.jpg (9xCKeziss89mdrP5715A) [1.3s]\n",
            "[UPLOADED] /content/dsail-porini-detection-unannotated-images/WARTHOG_snapshot_20191083281849165.jpg (VIekQamuFCOhF3YHzGCs) [0.9s]\n",
            "[UPLOADED] /content/dsail-porini-detection-unannotated-images/WARTHOG_snapshot_2019109434132186.jpg (ftOwpYHAFZy2h0ico8aU) [1.1s]\n",
            "[UPLOADED] /content/dsail-porini-detection-unannotated-images/WATERBUCK_2021-12-16-17-46-26.jpg (XxVgjVOS59cEoYLIq9PR) [1.1s]\n",
            "[UPLOADED] /content/dsail-porini-detection-unannotated-images/WATERBUCK_2021-12-16-18-21-27.jpg (sXfc7Dyul75ej7T4TI7C) [1.3s]\n",
            "[UPLOADED] /content/dsail-porini-detection-unannotated-images/WATERBUCK_2021-12-23-18-23-15.jpg (rlKeMjO9PLyebavWoDKL) [1.1s]\n",
            "[UPLOADED] /content/dsail-porini-detection-unannotated-images/WATERBUCK_2021-12-16-18-22-45.jpg (RGy2jGASx7r0ZCuHLq63) [1.4s]\n",
            "[UPLOADED] /content/dsail-porini-detection-unannotated-images/WATERBUCK_2021-12-23-18-23-37.jpg (XgO2fKI73RLJSFz6YeM8) [1.2s]\n",
            "[UPLOADED] /content/dsail-porini-detection-unannotated-images/WATERBUCK_2021-12-25-16-43-16.jpg (rsAEy6V96xLuaTNvvoFY) [1.1s]\n",
            "[UPLOADED] /content/dsail-porini-detection-unannotated-images/WATERBUCK_2021-12-25-16-45-09.jpg (ilc454X2Trjd73G8pjFg) [1.1s]\n",
            "[UPLOADED] /content/dsail-porini-detection-unannotated-images/WATERBUCK_2021-12-23-18-23-56.jpg (w0PcFJsi6WT1uEukTfHU) [1.4s]\n",
            "[UPLOADED] /content/dsail-porini-detection-unannotated-images/ZEBRA_2021-10-15-18-01-36.jpg (aHNBwr1Yp7ToNhqIwzsO) [0.9s]\n",
            "[UPLOADED] /content/dsail-porini-detection-unannotated-images/ZEBRA_2021-07-01-15-52-16.jpg (YBY05NyrKfGm3I7QLNuY) [1.2s]\n",
            "[UPLOADED] /content/dsail-porini-detection-unannotated-images/WATERBUCK_2021-12-23-18-24-11.jpg (VrR5khpagwHAkr1kVsPA) [1.4s]\n",
            "[UPLOADED] /content/dsail-porini-detection-unannotated-images/ZEBRA_2021-10-15-18-05-58.jpg (vU8MjTTpt280F6aTPkTI) [0.7s]\n",
            "[UPLOADED] /content/dsail-porini-detection-unannotated-images/ZEBRA_2021-10-15-18-04-17.jpg (8uxLzI98cR4CM9DCo1ss) [0.9s]\n",
            "[UPLOADED] /content/dsail-porini-detection-unannotated-images/ZEBRA_2021-10-16-18-09-57.jpg (DEFvDegMGXAD1fvYVXrW) [1.2s]\n",
            "[UPLOADED] /content/dsail-porini-detection-unannotated-images/ZEBRA_2021-10-16-18-18-16.jpg (7dPjkVuuehgJ5RzLh5G2) [0.9s]\n",
            "[UPLOADED] /content/dsail-porini-detection-unannotated-images/ZEBRA_2021-10-16-18-13-08.jpg (HG7z7oElC4EGAtVTvG2i) [1.0s]\n",
            "[UPLOADED] /content/dsail-porini-detection-unannotated-images/ZEBRA_2021-10-18-15-26-16.jpg (ebEw359CVyIek0q3ed7D) [1.0s]\n",
            "[UPLOADED] /content/dsail-porini-detection-unannotated-images/ZEBRA_snapshot_20191083562921.jpg (bIjbcYBvUxwEKb4Ib3Nt) [1.0s]\n",
            "[UPLOADED] /content/dsail-porini-detection-unannotated-images/ZEBRA_2021-10-16-18-10-08.jpg (x6CdKt5YYrKzrmjrqeE8) [1.5s]\n",
            "[UPLOADED] /content/dsail-porini-detection-unannotated-images/ZEBRA_2021-10-17-15-07-36.jpg (UbNUzANMYH8s5BaBXZnh) [1.5s]\n",
            "[UPLOADED] /content/dsail-porini-detection-unannotated-images/ZEBRA_2021-10-18-15-32-58.jpg (8BEMKd5ku0GIvAPi8zdR) [1.5s]\n"
          ]
        }
      ],
      "source": [
        "## Upload the unannotated images to same Roboflow Project\n",
        "workspace.upload_dataset(\n",
        "    dataset_path='/content/dsail-porini-detection-unannotated-images',\n",
        "    num_workers=10,\n",
        "    project_name=PROJECT_NAME,\n",
        "    project_license=\"MIT\",\n",
        "    project_type=\"object-detection\",\n",
        "    batch_name='unannotated-new-images'\n",
        ")"
      ]
    },
    {
      "cell_type": "markdown",
      "metadata": {
        "id": "e0O-L7iAAxPB"
      },
      "source": [
        "### 5) Annotate the new batch of images on Roboflow"
      ]
    },
    {
      "cell_type": "code",
      "execution_count": 15,
      "metadata": {
        "colab": {
          "base_uri": "https://localhost:8080/",
          "height": 809
        },
        "id": "M4v_-cSojQk4",
        "outputId": "ff687058-d23c-4dae-cfaa-80d6e7f7e003"
      },
      "outputs": [
        {
          "data": {
            "text/html": [
              "<video src=\"https://raw.githubusercontent.com/Marconi-Lab/dsa_2024/detection/roboflow-screencast.webm\" controls  >\n",
              "      Your browser does not support the <code>video</code> element.\n",
              "    </video>"
            ],
            "text/plain": [
              "<IPython.core.display.Video object>"
            ]
          },
          "execution_count": 15,
          "metadata": {},
          "output_type": "execute_result"
        }
      ],
      "source": [
        "from IPython.display import Video\n",
        "Video(\"https://raw.githubusercontent.com/Marconi-Lab/dsa_2024/main/assets/roboflow-screencast.webm\")"
      ]
    },
    {
      "cell_type": "markdown",
      "metadata": {
        "id": "Zyc9ELKyElMq"
      },
      "source": [
        " 1) On Roboflow, copy and paste the class names as shown below on the project :\n",
        "\n",
        "`bushbuck, impala, monkey, warthog, waterbuck, zebra`\n",
        "\n",
        " 2) After updating the class names, go into the `Annotate` window and assign the images to yourself.\n",
        "\n",
        " 3) Start annotating the images adhering to the bounding box annotation best practices. This [blog](https://blog.roboflow.com/tips-for-how-to-label-images/) by Roboflow highlights some of the best practices for bounding box annotations.\n",
        "\n",
        " 4) While annotating the images, note that the filename of each image contains the name of the animal present in the image. If you can't tell the species of the animal in the image, this may guide you. Make sure to label background images which do not have any animals as `null`"
      ]
    },
    {
      "cell_type": "markdown",
      "metadata": {
        "id": "xc9z1UpIA2vY"
      },
      "source": [
        "### 6) Download the final dataset to Colab"
      ]
    },
    {
      "cell_type": "markdown",
      "metadata": {
        "id": "lAxGsjapnqSB"
      },
      "source": [
        "1) After annotating all the 41 new images, add them to the dataset.    \n",
        "\n",
        "2) Generate a dataset version with your choice of augmentations (both image level and bounding box level augmentations). You can read about Roboflow image augmentations [here](https://docs.roboflow.com/datasets/image-augmentation). Be careful to avoid augmentations that may not apply to the dataset such as vertical flip since it is not something that is likely to occur in nature and there is not likely to be a vertically flipped animal in the test set.\n",
        "\n",
        "3) After the dataset has been created, run the cell below to download the dataset version. Make sure to specify the version number you want to download"
      ]
    },
    {
      "cell_type": "code",
      "execution_count": 10,
      "metadata": {
        "colab": {
          "base_uri": "https://localhost:8080/"
        },
        "id": "FGsRRriyqwr9",
        "outputId": "f256c6ba-7849-4575-86bf-34e96d6d07c3"
      },
      "outputs": [
        {
          "name": "stdout",
          "output_type": "stream",
          "text": [
            "Generating version still in progress. Progress: 98.6%\n",
            "[WARNING] we noticed you are downloading a `yolov8` datasets but you don't have `ultralytics` installed. Roboflow `.deploy` supports only models trained with `ultralytics==8.0.196`, to intall it `pip install ultralytics==8.0.196`.\n",
            "Exporting format yolov8 in progress : 85.0%\n",
            "Version export complete for yolov8 format\n"
          ]
        },
        {
          "name": "stderr",
          "output_type": "stream",
          "text": [
            "Downloading Dataset Version Zip in dsail-porini-detection-fork-3 to yolov8:: 100%|██████████| 52146/52146 [00:03<00:00, 13567.52it/s]"
          ]
        },
        {
          "name": "stdout",
          "output_type": "stream",
          "text": [
            "\n"
          ]
        },
        {
          "name": "stderr",
          "output_type": "stream",
          "text": [
            "\n",
            "Extracting Dataset Version Zip to dsail-porini-detection-fork-3 in yolov8:: 100%|██████████| 2302/2302 [00:00<00:00, 7398.38it/s]\n"
          ]
        }
      ],
      "source": [
        "PROJECT_VERSION_NUMBER = 1 ## Specify the version number you want to load\n",
        "version = project.version(PROJECT_VERSION_NUMBER)\n",
        "dataset = version.download(\"yolov8\")"
      ]
    },
    {
      "cell_type": "code",
      "execution_count": 11,
      "metadata": {
        "colab": {
          "base_uri": "https://localhost:8080/"
        },
        "id": "ZwE6uN1HuL01",
        "outputId": "f5da9209-c56d-4018-b071-2e07bc203b3a"
      },
      "outputs": [
        {
          "name": "stdout",
          "output_type": "stream",
          "text": [
            "Writing /content/dsail-porini-detection-fork-3/dataset.yaml\n"
          ]
        }
      ],
      "source": [
        "## Write yaml file with the correct configuration\n",
        "\n",
        "%%writefile {dataset.location}/dataset.yaml\n",
        "names:\n",
        " 0 : bushbuck\n",
        " 1 : impala\n",
        " 2 : monkey\n",
        " 3 : warthog\n",
        " 4 : waterbuck\n",
        " 5 : zebra\n",
        "\n",
        "nc: 6\n",
        "test: test/images\n",
        "train: train/images\n",
        "val: valid/images"
      ]
    },
    {
      "cell_type": "markdown",
      "metadata": {
        "id": "vS_82d3DFVfx"
      },
      "source": [
        "### 7) Train YOLOv8 Model"
      ]
    },
    {
      "cell_type": "code",
      "execution_count": 12,
      "metadata": {
        "id": "wn1Kj1gwu1QH"
      },
      "outputs": [],
      "source": [
        "## Install ultralytics\n",
        "!pip install ultralytics &>1\n",
        "\n",
        "## Install wandb\n",
        "!pip install wandb &>1\n",
        "\n",
        "## Import packages\n",
        "import wandb\n",
        "import os\n",
        "from ultralytics import YOLO"
      ]
    },
    {
      "cell_type": "code",
      "execution_count": 13,
      "metadata": {
        "colab": {
          "base_uri": "https://localhost:8080/"
        },
        "id": "b52nCDp3BDsX",
        "outputId": "32addfc9-7241-43ee-dd17-6db01b6432d0"
      },
      "outputs": [
        {
          "name": "stderr",
          "output_type": "stream",
          "text": [
            "\u001b[34m\u001b[1mwandb\u001b[0m: W&B API key is configured. Use \u001b[1m`wandb login --relogin`\u001b[0m to force relogin\n",
            "\u001b[34m\u001b[1mwandb\u001b[0m: \u001b[33mWARNING\u001b[0m If you're specifying your api key in code, ensure this code is not shared publicly.\n",
            "\u001b[34m\u001b[1mwandb\u001b[0m: \u001b[33mWARNING\u001b[0m Consider setting the WANDB_API_KEY environment variable, or running `wandb login` from the command line.\n",
            "\u001b[34m\u001b[1mwandb\u001b[0m: Appending key for api.wandb.ai to your netrc file: /root/.netrc\n"
          ]
        },
        {
          "data": {
            "text/plain": [
              "True"
            ]
          },
          "execution_count": 13,
          "metadata": {},
          "output_type": "execute_result"
        }
      ],
      "source": [
        "from google.colab import userdata\n",
        "wandb_api = userdata.get('wandb_api')\n",
        "wandb.login(key=wandb_api)"
      ]
    },
    {
      "cell_type": "code",
      "execution_count": 14,
      "metadata": {
        "colab": {
          "base_uri": "https://localhost:8080/",
          "height": 176
        },
        "id": "V3kKI2pWE1wF",
        "outputId": "d0d0d6e0-7411-496e-a943-36c1a03314c1"
      },
      "outputs": [
        {
          "name": "stderr",
          "output_type": "stream",
          "text": [
            "\u001b[34m\u001b[1mwandb\u001b[0m: Currently logged in as: \u001b[33mvickruto\u001b[0m. Use \u001b[1m`wandb login --relogin`\u001b[0m to force relogin\n"
          ]
        },
        {
          "data": {
            "text/html": [
              "Tracking run with wandb version 0.17.0"
            ],
            "text/plain": [
              "<IPython.core.display.HTML object>"
            ]
          },
          "metadata": {},
          "output_type": "display_data"
        },
        {
          "data": {
            "text/html": [
              "Run data is saved locally in <code>/content/wandb/run-20240516_102416-xd2i1vll</code>"
            ],
            "text/plain": [
              "<IPython.core.display.HTML object>"
            ]
          },
          "metadata": {},
          "output_type": "display_data"
        },
        {
          "data": {
            "text/html": [
              "Syncing run <strong><a href='https://wandb.ai/vickruto/dsail-porini-detection/runs/xd2i1vll' target=\"_blank\">updated-dataset-run</a></strong> to <a href='https://wandb.ai/vickruto/dsail-porini-detection' target=\"_blank\">Weights & Biases</a> (<a href='https://wandb.me/run' target=\"_blank\">docs</a>)<br/>"
            ],
            "text/plain": [
              "<IPython.core.display.HTML object>"
            ]
          },
          "metadata": {},
          "output_type": "display_data"
        },
        {
          "data": {
            "text/html": [
              " View project at <a href='https://wandb.ai/vickruto/dsail-porini-detection' target=\"_blank\">https://wandb.ai/vickruto/dsail-porini-detection</a>"
            ],
            "text/plain": [
              "<IPython.core.display.HTML object>"
            ]
          },
          "metadata": {},
          "output_type": "display_data"
        },
        {
          "data": {
            "text/html": [
              " View run at <a href='https://wandb.ai/vickruto/dsail-porini-detection/runs/xd2i1vll' target=\"_blank\">https://wandb.ai/vickruto/dsail-porini-detection/runs/xd2i1vll</a>"
            ],
            "text/plain": [
              "<IPython.core.display.HTML object>"
            ]
          },
          "metadata": {},
          "output_type": "display_data"
        },
        {
          "name": "stderr",
          "output_type": "stream",
          "text": [
            "\u001b[34m\u001b[1mwandb\u001b[0m: \u001b[33mWARNING\u001b[0m Saving files without folders. If you want to preserve subdirectories pass base_path to wandb.save, i.e. wandb.save(\"/mnt/folder/file.h5\", base_path=\"/mnt\")\n"
          ]
        },
        {
          "data": {
            "text/plain": [
              "['/content/wandb/run-20240516_102416-xd2i1vll/files/dsail-porini-detection-fork-3/README.roboflow.txt']"
            ]
          },
          "execution_count": 14,
          "metadata": {},
          "output_type": "execute_result"
        }
      ],
      "source": [
        "## Initialize a wandb run\n",
        "RUN_NAME = 'updated-dataset-run' ## Specify run name\n",
        "DATASET_PATH = dataset.location\n",
        "\n",
        "## Initialize wandb run\n",
        "run = wandb.init(project='dsail-porini-detection', name=RUN_NAME) ## Initialize the same wandb project we initialized in the previous notebook\n",
        "\n",
        "## Save the README file that contains information about the augmentations done in roboflow\n",
        "wandb.save(os.path.join(DATASET_PATH, 'README.roboflow.txt'))"
      ]
    },
    {
      "cell_type": "code",
      "execution_count": null,
      "metadata": {
        "colab": {
          "base_uri": "https://localhost:8080/"
        },
        "id": "pIFsPsKcFe-V",
        "outputId": "f67cd684-7b18-454b-b6a9-58bc41baadd9"
      },
      "outputs": [
        {
          "name": "stdout",
          "output_type": "stream",
          "text": [
            "Downloading https://github.com/ultralytics/assets/releases/download/v8.2.0/yolov8s.pt to 'yolov8s.pt'...\n"
          ]
        },
        {
          "name": "stderr",
          "output_type": "stream",
          "text": [
            "100%|██████████| 21.5M/21.5M [00:00<00:00, 337MB/s]\n"
          ]
        },
        {
          "name": "stdout",
          "output_type": "stream",
          "text": [
            "Ultralytics YOLOv8.2.16 🚀 Python-3.10.12 torch-2.2.1+cu121 CUDA:0 (Tesla T4, 15102MiB)\n",
            "\u001b[34m\u001b[1mengine/trainer: \u001b[0mtask=detect, mode=train, model=yolov8s.pt, data=/content/dsail-porini-detection-fork-3/dataset.yaml, epochs=50, time=None, patience=100, batch=16, imgsz=640, save=True, save_period=-1, cache=False, device=None, workers=8, project=None, name=updated-dataset-run, exist_ok=False, pretrained=True, optimizer=auto, verbose=True, seed=0, deterministic=True, single_cls=False, rect=False, cos_lr=False, close_mosaic=10, resume=False, amp=True, fraction=1.0, profile=False, freeze=None, multi_scale=False, overlap_mask=True, mask_ratio=4, dropout=0.0, val=True, split=val, save_json=False, save_hybrid=False, conf=None, iou=0.7, max_det=300, half=False, dnn=False, plots=True, source=None, vid_stride=1, stream_buffer=False, visualize=False, augment=False, agnostic_nms=False, classes=None, retina_masks=False, embed=None, show=False, save_frames=False, save_txt=False, save_conf=False, save_crop=False, show_labels=True, show_conf=True, show_boxes=True, line_width=None, format=torchscript, keras=False, optimize=False, int8=False, dynamic=False, simplify=False, opset=None, workspace=4, nms=False, lr0=0.01, lrf=0.01, momentum=0.937, weight_decay=0.0005, warmup_epochs=3.0, warmup_momentum=0.8, warmup_bias_lr=0.1, box=7.5, cls=0.5, dfl=1.5, pose=12.0, kobj=1.0, label_smoothing=0.0, nbs=64, hsv_h=0.015, hsv_s=0.7, hsv_v=0.4, degrees=0.0, translate=0.1, scale=0.5, shear=0.0, perspective=0.0, flipud=0.0, fliplr=0.5, bgr=0.0, mosaic=1.0, mixup=0.0, copy_paste=0.0, auto_augment=randaugment, erasing=0.4, crop_fraction=1.0, cfg=None, tracker=botsort.yaml, save_dir=runs/detect/updated-dataset-run\n",
            "Downloading https://ultralytics.com/assets/Arial.ttf to '/root/.config/Ultralytics/Arial.ttf'...\n"
          ]
        },
        {
          "name": "stderr",
          "output_type": "stream",
          "text": [
            "100%|██████████| 755k/755k [00:00<00:00, 23.2MB/s]\n"
          ]
        },
        {
          "name": "stdout",
          "output_type": "stream",
          "text": [
            "Overriding model.yaml nc=80 with nc=6\n",
            "\n",
            "                   from  n    params  module                                       arguments                     \n",
            "  0                  -1  1       928  ultralytics.nn.modules.conv.Conv             [3, 32, 3, 2]                 \n",
            "  1                  -1  1     18560  ultralytics.nn.modules.conv.Conv             [32, 64, 3, 2]                \n",
            "  2                  -1  1     29056  ultralytics.nn.modules.block.C2f             [64, 64, 1, True]             \n",
            "  3                  -1  1     73984  ultralytics.nn.modules.conv.Conv             [64, 128, 3, 2]               \n",
            "  4                  -1  2    197632  ultralytics.nn.modules.block.C2f             [128, 128, 2, True]           \n",
            "  5                  -1  1    295424  ultralytics.nn.modules.conv.Conv             [128, 256, 3, 2]              \n",
            "  6                  -1  2    788480  ultralytics.nn.modules.block.C2f             [256, 256, 2, True]           \n",
            "  7                  -1  1   1180672  ultralytics.nn.modules.conv.Conv             [256, 512, 3, 2]              \n",
            "  8                  -1  1   1838080  ultralytics.nn.modules.block.C2f             [512, 512, 1, True]           \n",
            "  9                  -1  1    656896  ultralytics.nn.modules.block.SPPF            [512, 512, 5]                 \n",
            " 10                  -1  1         0  torch.nn.modules.upsampling.Upsample         [None, 2, 'nearest']          \n",
            " 11             [-1, 6]  1         0  ultralytics.nn.modules.conv.Concat           [1]                           \n",
            " 12                  -1  1    591360  ultralytics.nn.modules.block.C2f             [768, 256, 1]                 \n",
            " 13                  -1  1         0  torch.nn.modules.upsampling.Upsample         [None, 2, 'nearest']          \n",
            " 14             [-1, 4]  1         0  ultralytics.nn.modules.conv.Concat           [1]                           \n",
            " 15                  -1  1    148224  ultralytics.nn.modules.block.C2f             [384, 128, 1]                 \n",
            " 16                  -1  1    147712  ultralytics.nn.modules.conv.Conv             [128, 128, 3, 2]              \n",
            " 17            [-1, 12]  1         0  ultralytics.nn.modules.conv.Concat           [1]                           \n",
            " 18                  -1  1    493056  ultralytics.nn.modules.block.C2f             [384, 256, 1]                 \n",
            " 19                  -1  1    590336  ultralytics.nn.modules.conv.Conv             [256, 256, 3, 2]              \n",
            " 20             [-1, 9]  1         0  ultralytics.nn.modules.conv.Concat           [1]                           \n",
            " 21                  -1  1   1969152  ultralytics.nn.modules.block.C2f             [768, 512, 1]                 \n",
            " 22        [15, 18, 21]  1   2118370  ultralytics.nn.modules.head.Detect           [6, [128, 256, 512]]          \n",
            "Model summary: 225 layers, 11137922 parameters, 11137906 gradients, 28.7 GFLOPs\n",
            "\n",
            "Transferred 349/355 items from pretrained weights\n",
            "\u001b[34m\u001b[1mTensorBoard: \u001b[0mStart with 'tensorboard --logdir runs/detect/updated-dataset-run', view at http://localhost:6006/\n",
            "Freezing layer 'model.22.dfl.conv.weight'\n",
            "\u001b[34m\u001b[1mAMP: \u001b[0mrunning Automatic Mixed Precision (AMP) checks with YOLOv8n...\n",
            "Downloading https://github.com/ultralytics/assets/releases/download/v8.2.0/yolov8n.pt to 'yolov8n.pt'...\n"
          ]
        },
        {
          "name": "stderr",
          "output_type": "stream",
          "text": [
            "100%|██████████| 6.23M/6.23M [00:00<00:00, 132MB/s]\n"
          ]
        },
        {
          "name": "stdout",
          "output_type": "stream",
          "text": [
            "\u001b[34m\u001b[1mAMP: \u001b[0mchecks passed ✅\n"
          ]
        },
        {
          "name": "stderr",
          "output_type": "stream",
          "text": [
            "\u001b[34m\u001b[1mtrain: \u001b[0mScanning /content/dsail-porini-detection-fork-3/train/labels... 1029 images, 0 backgrounds, 0 corrupt: 100%|██████████| 1029/1029 [00:01<00:00, 756.58it/s]"
          ]
        },
        {
          "name": "stdout",
          "output_type": "stream",
          "text": [
            "\u001b[34m\u001b[1mtrain: \u001b[0mNew cache created: /content/dsail-porini-detection-fork-3/train/labels.cache\n"
          ]
        },
        {
          "name": "stderr",
          "output_type": "stream",
          "text": [
            "\n"
          ]
        },
        {
          "name": "stdout",
          "output_type": "stream",
          "text": [
            "\u001b[34m\u001b[1malbumentations: \u001b[0mBlur(p=0.01, blur_limit=(3, 7)), MedianBlur(p=0.01, blur_limit=(3, 7)), ToGray(p=0.01), CLAHE(p=0.01, clip_limit=(1, 4.0), tile_grid_size=(8, 8))\n"
          ]
        },
        {
          "name": "stderr",
          "output_type": "stream",
          "text": [
            "os.fork() was called. os.fork() is incompatible with multithreaded code, and JAX is multithreaded, so this will likely lead to a deadlock.\n",
            "\u001b[34m\u001b[1mval: \u001b[0mScanning /content/dsail-porini-detection-fork-3/valid/labels... 70 images, 0 backgrounds, 0 corrupt: 100%|██████████| 70/70 [00:00<00:00, 362.50it/s]\n"
          ]
        },
        {
          "name": "stdout",
          "output_type": "stream",
          "text": [
            "\u001b[34m\u001b[1mval: \u001b[0mNew cache created: /content/dsail-porini-detection-fork-3/valid/labels.cache\n",
            "Plotting labels to runs/detect/updated-dataset-run/labels.jpg... \n",
            "\u001b[34m\u001b[1moptimizer:\u001b[0m 'optimizer=auto' found, ignoring 'lr0=0.01' and 'momentum=0.937' and determining best 'optimizer', 'lr0' and 'momentum' automatically... \n",
            "\u001b[34m\u001b[1moptimizer:\u001b[0m AdamW(lr=0.001, momentum=0.9) with parameter groups 57 weight(decay=0.0), 64 weight(decay=0.0005), 63 bias(decay=0.0)\n",
            "\u001b[34m\u001b[1mTensorBoard: \u001b[0mmodel graph visualization added ✅\n",
            "Image sizes 640 train, 640 val\n",
            "Using 2 dataloader workers\n",
            "Logging results to \u001b[1mruns/detect/updated-dataset-run\u001b[0m\n",
            "Starting training for 50 epochs...\n",
            "\n",
            "      Epoch    GPU_mem   box_loss   cls_loss   dfl_loss  Instances       Size\n"
          ]
        },
        {
          "name": "stderr",
          "output_type": "stream",
          "text": [
            "       1/50      4.27G     0.7972      3.463      1.126         11        640: 100%|██████████| 65/65 [00:30<00:00,  2.12it/s]\n",
            "                 Class     Images  Instances      Box(P          R      mAP50  mAP50-95): 100%|██████████| 3/3 [00:03<00:00,  1.09s/it]"
          ]
        },
        {
          "name": "stdout",
          "output_type": "stream",
          "text": [
            "                   all         70         95      0.418      0.537      0.473      0.251\n"
          ]
        },
        {
          "name": "stderr",
          "output_type": "stream",
          "text": [
            "\n"
          ]
        },
        {
          "name": "stdout",
          "output_type": "stream",
          "text": [
            "\n",
            "      Epoch    GPU_mem   box_loss   cls_loss   dfl_loss  Instances       Size\n"
          ]
        },
        {
          "name": "stderr",
          "output_type": "stream",
          "text": [
            "       2/50       4.3G     0.7837      1.614      1.097         12        640: 100%|██████████| 65/65 [00:24<00:00,  2.61it/s]\n",
            "                 Class     Images  Instances      Box(P          R      mAP50  mAP50-95): 100%|██████████| 3/3 [00:01<00:00,  2.98it/s]"
          ]
        },
        {
          "name": "stdout",
          "output_type": "stream",
          "text": [
            "                   all         70         95      0.473      0.487      0.529        0.3\n"
          ]
        },
        {
          "name": "stderr",
          "output_type": "stream",
          "text": [
            "\n"
          ]
        },
        {
          "name": "stdout",
          "output_type": "stream",
          "text": [
            "\n",
            "      Epoch    GPU_mem   box_loss   cls_loss   dfl_loss  Instances       Size\n"
          ]
        },
        {
          "name": "stderr",
          "output_type": "stream",
          "text": [
            "       3/50      4.29G     0.7909      1.425      1.117         10        640: 100%|██████████| 65/65 [00:28<00:00,  2.29it/s]\n",
            "                 Class     Images  Instances      Box(P          R      mAP50  mAP50-95): 100%|██████████| 3/3 [00:00<00:00,  3.13it/s]"
          ]
        },
        {
          "name": "stdout",
          "output_type": "stream",
          "text": [
            "                   all         70         95      0.661      0.485      0.559      0.334\n"
          ]
        },
        {
          "name": "stderr",
          "output_type": "stream",
          "text": [
            "\n"
          ]
        },
        {
          "name": "stdout",
          "output_type": "stream",
          "text": [
            "\n",
            "      Epoch    GPU_mem   box_loss   cls_loss   dfl_loss  Instances       Size\n"
          ]
        },
        {
          "name": "stderr",
          "output_type": "stream",
          "text": [
            "       4/50      4.12G      0.798       1.28       1.11         12        640: 100%|██████████| 65/65 [00:25<00:00,  2.59it/s]\n",
            "                 Class     Images  Instances      Box(P          R      mAP50  mAP50-95): 100%|██████████| 3/3 [00:00<00:00,  3.45it/s]"
          ]
        },
        {
          "name": "stdout",
          "output_type": "stream",
          "text": [
            "                   all         70         95       0.57      0.475      0.552      0.319\n"
          ]
        },
        {
          "name": "stderr",
          "output_type": "stream",
          "text": [
            "\n"
          ]
        },
        {
          "name": "stdout",
          "output_type": "stream",
          "text": [
            "\n",
            "      Epoch    GPU_mem   box_loss   cls_loss   dfl_loss  Instances       Size\n"
          ]
        },
        {
          "name": "stderr",
          "output_type": "stream",
          "text": [
            "       5/50       4.2G     0.7752      1.255      1.098          8        640: 100%|██████████| 65/65 [00:29<00:00,  2.17it/s]\n",
            "                 Class     Images  Instances      Box(P          R      mAP50  mAP50-95): 100%|██████████| 3/3 [00:01<00:00,  1.69it/s]"
          ]
        },
        {
          "name": "stdout",
          "output_type": "stream",
          "text": [
            "                   all         70         95      0.781      0.644      0.722      0.481\n"
          ]
        },
        {
          "name": "stderr",
          "output_type": "stream",
          "text": [
            "\n"
          ]
        },
        {
          "name": "stdout",
          "output_type": "stream",
          "text": [
            "\n",
            "      Epoch    GPU_mem   box_loss   cls_loss   dfl_loss  Instances       Size\n"
          ]
        },
        {
          "name": "stderr",
          "output_type": "stream",
          "text": [
            "       6/50      4.16G     0.7561      1.157      1.092         11        640: 100%|██████████| 65/65 [00:27<00:00,  2.37it/s]\n",
            "                 Class     Images  Instances      Box(P          R      mAP50  mAP50-95): 100%|██████████| 3/3 [00:01<00:00,  1.75it/s]"
          ]
        },
        {
          "name": "stdout",
          "output_type": "stream",
          "text": [
            "                   all         70         95      0.616      0.652      0.661      0.412\n"
          ]
        },
        {
          "name": "stderr",
          "output_type": "stream",
          "text": [
            "\n"
          ]
        },
        {
          "name": "stdout",
          "output_type": "stream",
          "text": [
            "\n",
            "      Epoch    GPU_mem   box_loss   cls_loss   dfl_loss  Instances       Size\n"
          ]
        },
        {
          "name": "stderr",
          "output_type": "stream",
          "text": [
            "       7/50      4.15G     0.7837      1.115      1.114         29        640:  52%|█████▏    | 34/65 [00:12<00:09,  3.28it/s]"
          ]
        }
      ],
      "source": [
        "## Load one of the model variants\n",
        "model = YOLO('yolov8s.pt') ## Try other sizes ie 'yolov8[n,s,m,l,x].pt\n",
        "\n",
        "## Train the model\n",
        "NUM_EPOCHS = 50 ## Specify number of epochs to run\n",
        "model.train(data=os.path.join(DATASET_PATH, 'dataset.yaml'),\n",
        "            epochs=NUM_EPOCHS,\n",
        "            name = RUN_NAME,\n",
        "            save_dir=f'runs/detect/{RUN_NAME}')"
      ]
    },
    {
      "cell_type": "markdown",
      "metadata": {
        "id": "KEpneh4-G2Tl"
      },
      "source": [
        "While the model is training, log into the wandb platform and compare the runs. Check if your model has lower loss levels towards the end of the training since you used more data"
      ]
    },
    {
      "cell_type": "markdown",
      "metadata": {
        "id": "7xvI93vj6f8E"
      },
      "source": [
        "## Exercise 2 : Grounding Dino Zero-Shot Detection\n",
        "\n",
        "In this exercise you will try out [`Grounding Dino`](https://github.com/IDEA-Research/GroundingDINO) another state of the art zero-shot detection model, and compare its performance to YOLO-World. This tutorial blog by Roboflow introduces Grounding Dino and explains in further detail how zero-shot detectors work. The tutorial also has an accompanying [Youtube Video](https://www.youtube.com/watch?v=cMa77r3YrDk) and [Colab Notebook](https://colab.research.google.com/github/roboflow-ai/notebooks/blob/main/notebooks/zero-shot-object-detection-with-grounding-dino.ipynb?ref=blog.roboflow.com#scrollTo=QE9aSXo9e1jR) that you can use as guides. Set up the model and run it on a few of the DSAIL-Porini images. Try out different descriptive prompts and check how the prompts affect the bounding box prediction. Also compare the inference speed to that of YOLO-World\n"
      ]
    }
  ],
  "metadata": {
    "accelerator": "GPU",
    "colab": {
      "gpuType": "T4",
      "provenance": []
    },
    "kernelspec": {
      "display_name": "Python 3",
      "name": "python3"
    },
    "language_info": {
      "name": "python"
    }
  },
  "nbformat": 4,
  "nbformat_minor": 0
}
